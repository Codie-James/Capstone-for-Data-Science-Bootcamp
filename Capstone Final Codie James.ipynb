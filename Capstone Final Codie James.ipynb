{
 "cells": [
  {
   "cell_type": "markdown",
   "id": "94d19820",
   "metadata": {},
   "source": [
    "## Date: October 30, 2022\n",
    "## Name: Codie James\n",
    "## Email: Codie.James1468@gmail.com"
   ]
  },
  {
   "cell_type": "markdown",
   "id": "c1396571",
   "metadata": {},
   "source": [
    "## Introduction \n",
    "\n",
    "In this notebook I apply machine learning techniques in order to distinguish key features that contribute to the success of a YouTube video.\n",
    "\n",
    "### The Data\n",
    " he dataset used in my capstone project was taken from Kaggle. It was originally uploaded by the user Michael J. They employed webscraping to gather the data. The version that is being used throughout the notebook was updated a year after the initial upload, and is a cleaner version of the origial. I believe that it is a reliable source of information because it was webscraped directly from YouTube as a snapshot in time. \n",
    "\n",
    "### The Question\n",
    "My business question that I will be targetting is: \"What features of a video contribute to a video being popular\". I decided to target this question because I can use likes, dislikes and comments to train a model.\n",
    " "
   ]
  },
  {
   "cell_type": "markdown",
   "id": "4fca3449",
   "metadata": {},
   "source": [
    "Below I want to keep all of my imported packages in a single cell so that the notebook stays organized. If I need to problem solve then I know exactly where to go to check over my work."
   ]
  },
  {
   "cell_type": "code",
   "execution_count": 1,
   "id": "4969d6fc",
   "metadata": {},
   "outputs": [],
   "source": [
    "# importing all of the libraries which I will be using throughout the notebook\n",
    "#numpy for working with any kinds of aggregation\n",
    "import numpy as np\n",
    "#pandas to create dataframes and work with them\n",
    "import pandas as pd\n",
    "#matplotlib for plotting graphs\n",
    "import matplotlib.pyplot as plt\n",
    "#seaborn for plotting graphs that matplot lib may not\n",
    "import seaborn as sns\n",
    "# To split data into train and test splits\n",
    "from sklearn.model_selection import train_test_split\n",
    "# To scale the data\n",
    "from sklearn.preprocessing import StandardScaler\n",
    "from sklearn.preprocessing import RobustScaler\n",
    "from sklearn.preprocessing import MinMaxScaler\n",
    "# To try dimensionality reduction\n",
    "from sklearn.decomposition import PCA\n",
    "# To build a simple model\n",
    "from sklearn.linear_model import LogisticRegression\n",
    "# To get the score of the models\n",
    "from sklearn.metrics import accuracy_score\n",
    "# To import the classifier for KNeighbors\n",
    "from sklearn.neighbors import KNeighborsClassifier\n",
    "# To do regression on KNeighbors\n",
    "from sklearn.neighbors import KNeighborsRegressor\n",
    "from sklearn.tree import DecisionTreeClassifier\n",
    "# To \"pickle\" things, like accuracies or even an entire fitted model\n",
    "import joblib\n",
    "# To cross-validate\n",
    "from sklearn.model_selection import cross_val_score\n",
    "# To set up a temporary directory for caching pipeline results\n",
    "from tempfile import mkdtemp\n",
    "# To build a pipeline\n",
    "from sklearn.pipeline import Pipeline\n",
    "# To do a cross-validated grid search\n",
    "from sklearn.model_selection import GridSearchCV\n",
    "# To make a confusion matrix\n",
    "from sklearn.metrics import plot_confusion_matrix, confusion_matrix\n",
    "# Filter warnings\n",
    "import warnings\n",
    "warnings.filterwarnings('ignore')"
   ]
  },
  {
   "cell_type": "markdown",
   "id": "33ea477d",
   "metadata": {},
   "source": [
    "## Data Exploration and Cleaning\n",
    "Next step will be importing my kaggle data into the notebook, I will be focusing my attention to the CA videos for this project to keep the dataset tidy and to limit the possibility of duplicate videos.My goal will be making a model that is robust and can be used in other workspaces."
   ]
  },
  {
   "cell_type": "code",
   "execution_count": 2,
   "id": "c23aec8d",
   "metadata": {},
   "outputs": [],
   "source": [
    "# Reading in the csv data that was downloaded as a pandas dataframe\n",
    "df = pd.read_csv('data/CAvideos.csv')"
   ]
  },
  {
   "cell_type": "code",
   "execution_count": 3,
   "id": "a608e3b2",
   "metadata": {},
   "outputs": [
    {
     "data": {
      "text/plain": [
       "(40881, 16)"
      ]
     },
     "execution_count": 3,
     "metadata": {},
     "output_type": "execute_result"
    }
   ],
   "source": [
    "# checking to see what our dataframe looks like in terms of size\n",
    "df.shape"
   ]
  },
  {
   "cell_type": "markdown",
   "id": "7138629c",
   "metadata": {},
   "source": [
    "My first step will be making sure the dataset is clean. I will explore the data and check for how many missing values I have if any are present in the dataset. I can check this by using pandas to find any null/na values."
   ]
  },
  {
   "cell_type": "code",
   "execution_count": 4,
   "id": "8daa5977",
   "metadata": {},
   "outputs": [
    {
     "data": {
      "text/plain": [
       "video_id                     0\n",
       "trending_date                0\n",
       "title                        0\n",
       "channel_title                0\n",
       "category_id                  0\n",
       "publish_time                 0\n",
       "tags                         0\n",
       "views                        0\n",
       "likes                        0\n",
       "dislikes                     0\n",
       "comment_count                0\n",
       "thumbnail_link               0\n",
       "comments_disabled            0\n",
       "ratings_disabled             0\n",
       "video_error_or_removed       0\n",
       "description               1296\n",
       "dtype: int64"
      ]
     },
     "execution_count": 4,
     "metadata": {},
     "output_type": "execute_result"
    }
   ],
   "source": [
    "# by checking the sum of na values I can see how many missing values I have and take the proper steps\n",
    "df.isna().sum()"
   ]
  },
  {
   "cell_type": "markdown",
   "id": "3b36ee14",
   "metadata": {},
   "source": [
    "While checking the null values I  also take this oppertunity to see what some of my column names are to  use the names as \"keys\" to search, filter or combine data later on. I will use the df.head function to get a tabular view of the data to better visualize what each row looks like."
   ]
  },
  {
   "cell_type": "code",
   "execution_count": 5,
   "id": "b13960cf",
   "metadata": {},
   "outputs": [
    {
     "data": {
      "text/html": [
       "<div>\n",
       "<style scoped>\n",
       "    .dataframe tbody tr th:only-of-type {\n",
       "        vertical-align: middle;\n",
       "    }\n",
       "\n",
       "    .dataframe tbody tr th {\n",
       "        vertical-align: top;\n",
       "    }\n",
       "\n",
       "    .dataframe thead th {\n",
       "        text-align: right;\n",
       "    }\n",
       "</style>\n",
       "<table border=\"1\" class=\"dataframe\">\n",
       "  <thead>\n",
       "    <tr style=\"text-align: right;\">\n",
       "      <th></th>\n",
       "      <th>video_id</th>\n",
       "      <th>trending_date</th>\n",
       "      <th>title</th>\n",
       "      <th>channel_title</th>\n",
       "      <th>category_id</th>\n",
       "      <th>publish_time</th>\n",
       "      <th>tags</th>\n",
       "      <th>views</th>\n",
       "      <th>likes</th>\n",
       "      <th>dislikes</th>\n",
       "      <th>comment_count</th>\n",
       "      <th>thumbnail_link</th>\n",
       "      <th>comments_disabled</th>\n",
       "      <th>ratings_disabled</th>\n",
       "      <th>video_error_or_removed</th>\n",
       "      <th>description</th>\n",
       "    </tr>\n",
       "  </thead>\n",
       "  <tbody>\n",
       "    <tr>\n",
       "      <th>0</th>\n",
       "      <td>n1WpP7iowLc</td>\n",
       "      <td>17.14.11</td>\n",
       "      <td>Eminem - Walk On Water (Audio) ft. Beyoncé</td>\n",
       "      <td>EminemVEVO</td>\n",
       "      <td>10</td>\n",
       "      <td>2017-11-10T17:00:03.000Z</td>\n",
       "      <td>Eminem|\"Walk\"|\"On\"|\"Water\"|\"Aftermath/Shady/In...</td>\n",
       "      <td>17158579</td>\n",
       "      <td>787425</td>\n",
       "      <td>43420</td>\n",
       "      <td>125882</td>\n",
       "      <td>https://i.ytimg.com/vi/n1WpP7iowLc/default.jpg</td>\n",
       "      <td>False</td>\n",
       "      <td>False</td>\n",
       "      <td>False</td>\n",
       "      <td>Eminem's new track Walk on Water ft. Beyoncé i...</td>\n",
       "    </tr>\n",
       "    <tr>\n",
       "      <th>1</th>\n",
       "      <td>0dBIkQ4Mz1M</td>\n",
       "      <td>17.14.11</td>\n",
       "      <td>PLUSH - Bad Unboxing Fan Mail</td>\n",
       "      <td>iDubbbzTV</td>\n",
       "      <td>23</td>\n",
       "      <td>2017-11-13T17:00:00.000Z</td>\n",
       "      <td>plush|\"bad unboxing\"|\"unboxing\"|\"fan mail\"|\"id...</td>\n",
       "      <td>1014651</td>\n",
       "      <td>127794</td>\n",
       "      <td>1688</td>\n",
       "      <td>13030</td>\n",
       "      <td>https://i.ytimg.com/vi/0dBIkQ4Mz1M/default.jpg</td>\n",
       "      <td>False</td>\n",
       "      <td>False</td>\n",
       "      <td>False</td>\n",
       "      <td>STill got a lot of packages. Probably will las...</td>\n",
       "    </tr>\n",
       "    <tr>\n",
       "      <th>2</th>\n",
       "      <td>5qpjK5DgCt4</td>\n",
       "      <td>17.14.11</td>\n",
       "      <td>Racist Superman | Rudy Mancuso, King Bach &amp; Le...</td>\n",
       "      <td>Rudy Mancuso</td>\n",
       "      <td>23</td>\n",
       "      <td>2017-11-12T19:05:24.000Z</td>\n",
       "      <td>racist superman|\"rudy\"|\"mancuso\"|\"king\"|\"bach\"...</td>\n",
       "      <td>3191434</td>\n",
       "      <td>146035</td>\n",
       "      <td>5339</td>\n",
       "      <td>8181</td>\n",
       "      <td>https://i.ytimg.com/vi/5qpjK5DgCt4/default.jpg</td>\n",
       "      <td>False</td>\n",
       "      <td>False</td>\n",
       "      <td>False</td>\n",
       "      <td>WATCH MY PREVIOUS VIDEO ▶ \\n\\nSUBSCRIBE ► http...</td>\n",
       "    </tr>\n",
       "    <tr>\n",
       "      <th>3</th>\n",
       "      <td>d380meD0W0M</td>\n",
       "      <td>17.14.11</td>\n",
       "      <td>I Dare You: GOING BALD!?</td>\n",
       "      <td>nigahiga</td>\n",
       "      <td>24</td>\n",
       "      <td>2017-11-12T18:01:41.000Z</td>\n",
       "      <td>ryan|\"higa\"|\"higatv\"|\"nigahiga\"|\"i dare you\"|\"...</td>\n",
       "      <td>2095828</td>\n",
       "      <td>132239</td>\n",
       "      <td>1989</td>\n",
       "      <td>17518</td>\n",
       "      <td>https://i.ytimg.com/vi/d380meD0W0M/default.jpg</td>\n",
       "      <td>False</td>\n",
       "      <td>False</td>\n",
       "      <td>False</td>\n",
       "      <td>I know it's been a while since we did this sho...</td>\n",
       "    </tr>\n",
       "    <tr>\n",
       "      <th>4</th>\n",
       "      <td>2Vv-BfVoq4g</td>\n",
       "      <td>17.14.11</td>\n",
       "      <td>Ed Sheeran - Perfect (Official Music Video)</td>\n",
       "      <td>Ed Sheeran</td>\n",
       "      <td>10</td>\n",
       "      <td>2017-11-09T11:04:14.000Z</td>\n",
       "      <td>edsheeran|\"ed sheeran\"|\"acoustic\"|\"live\"|\"cove...</td>\n",
       "      <td>33523622</td>\n",
       "      <td>1634130</td>\n",
       "      <td>21082</td>\n",
       "      <td>85067</td>\n",
       "      <td>https://i.ytimg.com/vi/2Vv-BfVoq4g/default.jpg</td>\n",
       "      <td>False</td>\n",
       "      <td>False</td>\n",
       "      <td>False</td>\n",
       "      <td>🎧: https://ad.gt/yt-perfect\\n💰: https://atlant...</td>\n",
       "    </tr>\n",
       "  </tbody>\n",
       "</table>\n",
       "</div>"
      ],
      "text/plain": [
       "      video_id trending_date  \\\n",
       "0  n1WpP7iowLc      17.14.11   \n",
       "1  0dBIkQ4Mz1M      17.14.11   \n",
       "2  5qpjK5DgCt4      17.14.11   \n",
       "3  d380meD0W0M      17.14.11   \n",
       "4  2Vv-BfVoq4g      17.14.11   \n",
       "\n",
       "                                               title channel_title  \\\n",
       "0         Eminem - Walk On Water (Audio) ft. Beyoncé    EminemVEVO   \n",
       "1                      PLUSH - Bad Unboxing Fan Mail     iDubbbzTV   \n",
       "2  Racist Superman | Rudy Mancuso, King Bach & Le...  Rudy Mancuso   \n",
       "3                           I Dare You: GOING BALD!?      nigahiga   \n",
       "4        Ed Sheeran - Perfect (Official Music Video)    Ed Sheeran   \n",
       "\n",
       "   category_id              publish_time  \\\n",
       "0           10  2017-11-10T17:00:03.000Z   \n",
       "1           23  2017-11-13T17:00:00.000Z   \n",
       "2           23  2017-11-12T19:05:24.000Z   \n",
       "3           24  2017-11-12T18:01:41.000Z   \n",
       "4           10  2017-11-09T11:04:14.000Z   \n",
       "\n",
       "                                                tags     views    likes  \\\n",
       "0  Eminem|\"Walk\"|\"On\"|\"Water\"|\"Aftermath/Shady/In...  17158579   787425   \n",
       "1  plush|\"bad unboxing\"|\"unboxing\"|\"fan mail\"|\"id...   1014651   127794   \n",
       "2  racist superman|\"rudy\"|\"mancuso\"|\"king\"|\"bach\"...   3191434   146035   \n",
       "3  ryan|\"higa\"|\"higatv\"|\"nigahiga\"|\"i dare you\"|\"...   2095828   132239   \n",
       "4  edsheeran|\"ed sheeran\"|\"acoustic\"|\"live\"|\"cove...  33523622  1634130   \n",
       "\n",
       "   dislikes  comment_count                                  thumbnail_link  \\\n",
       "0     43420         125882  https://i.ytimg.com/vi/n1WpP7iowLc/default.jpg   \n",
       "1      1688          13030  https://i.ytimg.com/vi/0dBIkQ4Mz1M/default.jpg   \n",
       "2      5339           8181  https://i.ytimg.com/vi/5qpjK5DgCt4/default.jpg   \n",
       "3      1989          17518  https://i.ytimg.com/vi/d380meD0W0M/default.jpg   \n",
       "4     21082          85067  https://i.ytimg.com/vi/2Vv-BfVoq4g/default.jpg   \n",
       "\n",
       "   comments_disabled  ratings_disabled  video_error_or_removed  \\\n",
       "0              False             False                   False   \n",
       "1              False             False                   False   \n",
       "2              False             False                   False   \n",
       "3              False             False                   False   \n",
       "4              False             False                   False   \n",
       "\n",
       "                                         description  \n",
       "0  Eminem's new track Walk on Water ft. Beyoncé i...  \n",
       "1  STill got a lot of packages. Probably will las...  \n",
       "2  WATCH MY PREVIOUS VIDEO ▶ \\n\\nSUBSCRIBE ► http...  \n",
       "3  I know it's been a while since we did this sho...  \n",
       "4  🎧: https://ad.gt/yt-perfect\\n💰: https://atlant...  "
      ]
     },
     "execution_count": 5,
     "metadata": {},
     "output_type": "execute_result"
    }
   ],
   "source": [
    "# getting a snapshot of the dataframe and checking what each row looks like\n",
    "df.head(5)"
   ]
  },
  {
   "cell_type": "markdown",
   "id": "246ad9e9",
   "metadata": {},
   "source": [
    "After examining the data I want to  create a ratio that takes into account how interactive the viewers of the video are. I believe that I may be able to make a relation between this an the amount of views a video gets."
   ]
  },
  {
   "cell_type": "code",
   "execution_count": 6,
   "id": "aab53806",
   "metadata": {},
   "outputs": [
    {
     "data": {
      "text/html": [
       "<div>\n",
       "<style scoped>\n",
       "    .dataframe tbody tr th:only-of-type {\n",
       "        vertical-align: middle;\n",
       "    }\n",
       "\n",
       "    .dataframe tbody tr th {\n",
       "        vertical-align: top;\n",
       "    }\n",
       "\n",
       "    .dataframe thead th {\n",
       "        text-align: right;\n",
       "    }\n",
       "</style>\n",
       "<table border=\"1\" class=\"dataframe\">\n",
       "  <thead>\n",
       "    <tr style=\"text-align: right;\">\n",
       "      <th></th>\n",
       "      <th>video_id</th>\n",
       "      <th>trending_date</th>\n",
       "      <th>title</th>\n",
       "      <th>channel_title</th>\n",
       "      <th>category_id</th>\n",
       "      <th>publish_time</th>\n",
       "      <th>tags</th>\n",
       "      <th>views</th>\n",
       "      <th>likes</th>\n",
       "      <th>dislikes</th>\n",
       "      <th>comment_count</th>\n",
       "      <th>thumbnail_link</th>\n",
       "      <th>comments_disabled</th>\n",
       "      <th>ratings_disabled</th>\n",
       "      <th>video_error_or_removed</th>\n",
       "      <th>description</th>\n",
       "      <th>Interactivity Ratio</th>\n",
       "    </tr>\n",
       "  </thead>\n",
       "  <tbody>\n",
       "    <tr>\n",
       "      <th>0</th>\n",
       "      <td>n1WpP7iowLc</td>\n",
       "      <td>17.14.11</td>\n",
       "      <td>Eminem - Walk On Water (Audio) ft. Beyoncé</td>\n",
       "      <td>EminemVEVO</td>\n",
       "      <td>10</td>\n",
       "      <td>2017-11-10T17:00:03.000Z</td>\n",
       "      <td>Eminem|\"Walk\"|\"On\"|\"Water\"|\"Aftermath/Shady/In...</td>\n",
       "      <td>17158579</td>\n",
       "      <td>787425</td>\n",
       "      <td>43420</td>\n",
       "      <td>125882</td>\n",
       "      <td>https://i.ytimg.com/vi/n1WpP7iowLc/default.jpg</td>\n",
       "      <td>False</td>\n",
       "      <td>False</td>\n",
       "      <td>False</td>\n",
       "      <td>Eminem's new track Walk on Water ft. Beyoncé i...</td>\n",
       "      <td>8.308457e+05</td>\n",
       "    </tr>\n",
       "    <tr>\n",
       "      <th>1</th>\n",
       "      <td>0dBIkQ4Mz1M</td>\n",
       "      <td>17.14.11</td>\n",
       "      <td>PLUSH - Bad Unboxing Fan Mail</td>\n",
       "      <td>iDubbbzTV</td>\n",
       "      <td>23</td>\n",
       "      <td>2017-11-13T17:00:00.000Z</td>\n",
       "      <td>plush|\"bad unboxing\"|\"unboxing\"|\"fan mail\"|\"id...</td>\n",
       "      <td>1014651</td>\n",
       "      <td>127794</td>\n",
       "      <td>1688</td>\n",
       "      <td>13030</td>\n",
       "      <td>https://i.ytimg.com/vi/0dBIkQ4Mz1M/default.jpg</td>\n",
       "      <td>False</td>\n",
       "      <td>False</td>\n",
       "      <td>False</td>\n",
       "      <td>STill got a lot of packages. Probably will las...</td>\n",
       "      <td>1.294833e+05</td>\n",
       "    </tr>\n",
       "    <tr>\n",
       "      <th>2</th>\n",
       "      <td>5qpjK5DgCt4</td>\n",
       "      <td>17.14.11</td>\n",
       "      <td>Racist Superman | Rudy Mancuso, King Bach &amp; Le...</td>\n",
       "      <td>Rudy Mancuso</td>\n",
       "      <td>23</td>\n",
       "      <td>2017-11-12T19:05:24.000Z</td>\n",
       "      <td>racist superman|\"rudy\"|\"mancuso\"|\"king\"|\"bach\"...</td>\n",
       "      <td>3191434</td>\n",
       "      <td>146035</td>\n",
       "      <td>5339</td>\n",
       "      <td>8181</td>\n",
       "      <td>https://i.ytimg.com/vi/5qpjK5DgCt4/default.jpg</td>\n",
       "      <td>False</td>\n",
       "      <td>False</td>\n",
       "      <td>False</td>\n",
       "      <td>WATCH MY PREVIOUS VIDEO ▶ \\n\\nSUBSCRIBE ► http...</td>\n",
       "      <td>1.513743e+05</td>\n",
       "    </tr>\n",
       "    <tr>\n",
       "      <th>3</th>\n",
       "      <td>d380meD0W0M</td>\n",
       "      <td>17.14.11</td>\n",
       "      <td>I Dare You: GOING BALD!?</td>\n",
       "      <td>nigahiga</td>\n",
       "      <td>24</td>\n",
       "      <td>2017-11-12T18:01:41.000Z</td>\n",
       "      <td>ryan|\"higa\"|\"higatv\"|\"nigahiga\"|\"i dare you\"|\"...</td>\n",
       "      <td>2095828</td>\n",
       "      <td>132239</td>\n",
       "      <td>1989</td>\n",
       "      <td>17518</td>\n",
       "      <td>https://i.ytimg.com/vi/d380meD0W0M/default.jpg</td>\n",
       "      <td>False</td>\n",
       "      <td>False</td>\n",
       "      <td>False</td>\n",
       "      <td>I know it's been a while since we did this sho...</td>\n",
       "      <td>1.342288e+05</td>\n",
       "    </tr>\n",
       "    <tr>\n",
       "      <th>4</th>\n",
       "      <td>2Vv-BfVoq4g</td>\n",
       "      <td>17.14.11</td>\n",
       "      <td>Ed Sheeran - Perfect (Official Music Video)</td>\n",
       "      <td>Ed Sheeran</td>\n",
       "      <td>10</td>\n",
       "      <td>2017-11-09T11:04:14.000Z</td>\n",
       "      <td>edsheeran|\"ed sheeran\"|\"acoustic\"|\"live\"|\"cove...</td>\n",
       "      <td>33523622</td>\n",
       "      <td>1634130</td>\n",
       "      <td>21082</td>\n",
       "      <td>85067</td>\n",
       "      <td>https://i.ytimg.com/vi/2Vv-BfVoq4g/default.jpg</td>\n",
       "      <td>False</td>\n",
       "      <td>False</td>\n",
       "      <td>False</td>\n",
       "      <td>🎧: https://ad.gt/yt-perfect\\n💰: https://atlant...</td>\n",
       "      <td>1.655212e+06</td>\n",
       "    </tr>\n",
       "  </tbody>\n",
       "</table>\n",
       "</div>"
      ],
      "text/plain": [
       "      video_id trending_date  \\\n",
       "0  n1WpP7iowLc      17.14.11   \n",
       "1  0dBIkQ4Mz1M      17.14.11   \n",
       "2  5qpjK5DgCt4      17.14.11   \n",
       "3  d380meD0W0M      17.14.11   \n",
       "4  2Vv-BfVoq4g      17.14.11   \n",
       "\n",
       "                                               title channel_title  \\\n",
       "0         Eminem - Walk On Water (Audio) ft. Beyoncé    EminemVEVO   \n",
       "1                      PLUSH - Bad Unboxing Fan Mail     iDubbbzTV   \n",
       "2  Racist Superman | Rudy Mancuso, King Bach & Le...  Rudy Mancuso   \n",
       "3                           I Dare You: GOING BALD!?      nigahiga   \n",
       "4        Ed Sheeran - Perfect (Official Music Video)    Ed Sheeran   \n",
       "\n",
       "   category_id              publish_time  \\\n",
       "0           10  2017-11-10T17:00:03.000Z   \n",
       "1           23  2017-11-13T17:00:00.000Z   \n",
       "2           23  2017-11-12T19:05:24.000Z   \n",
       "3           24  2017-11-12T18:01:41.000Z   \n",
       "4           10  2017-11-09T11:04:14.000Z   \n",
       "\n",
       "                                                tags     views    likes  \\\n",
       "0  Eminem|\"Walk\"|\"On\"|\"Water\"|\"Aftermath/Shady/In...  17158579   787425   \n",
       "1  plush|\"bad unboxing\"|\"unboxing\"|\"fan mail\"|\"id...   1014651   127794   \n",
       "2  racist superman|\"rudy\"|\"mancuso\"|\"king\"|\"bach\"...   3191434   146035   \n",
       "3  ryan|\"higa\"|\"higatv\"|\"nigahiga\"|\"i dare you\"|\"...   2095828   132239   \n",
       "4  edsheeran|\"ed sheeran\"|\"acoustic\"|\"live\"|\"cove...  33523622  1634130   \n",
       "\n",
       "   dislikes  comment_count                                  thumbnail_link  \\\n",
       "0     43420         125882  https://i.ytimg.com/vi/n1WpP7iowLc/default.jpg   \n",
       "1      1688          13030  https://i.ytimg.com/vi/0dBIkQ4Mz1M/default.jpg   \n",
       "2      5339           8181  https://i.ytimg.com/vi/5qpjK5DgCt4/default.jpg   \n",
       "3      1989          17518  https://i.ytimg.com/vi/d380meD0W0M/default.jpg   \n",
       "4     21082          85067  https://i.ytimg.com/vi/2Vv-BfVoq4g/default.jpg   \n",
       "\n",
       "   comments_disabled  ratings_disabled  video_error_or_removed  \\\n",
       "0              False             False                   False   \n",
       "1              False             False                   False   \n",
       "2              False             False                   False   \n",
       "3              False             False                   False   \n",
       "4              False             False                   False   \n",
       "\n",
       "                                         description  Interactivity Ratio  \n",
       "0  Eminem's new track Walk on Water ft. Beyoncé i...         8.308457e+05  \n",
       "1  STill got a lot of packages. Probably will las...         1.294833e+05  \n",
       "2  WATCH MY PREVIOUS VIDEO ▶ \\n\\nSUBSCRIBE ► http...         1.513743e+05  \n",
       "3  I know it's been a while since we did this sho...         1.342288e+05  \n",
       "4  🎧: https://ad.gt/yt-perfect\\n💰: https://atlant...         1.655212e+06  "
      ]
     },
     "execution_count": 6,
     "metadata": {},
     "output_type": "execute_result"
    }
   ],
   "source": [
    "# creating the metric by combining counts and dividing it by total views\n",
    "df['Interactivity Ratio'] = df['likes'] + df['dislikes'] + df['comment_count'] / df['views'] *100\n",
    "df.head()"
   ]
  },
  {
   "cell_type": "markdown",
   "id": "69f30e11",
   "metadata": {},
   "source": [
    "Now I can incorporate it into my models in the future to see if it adds any value to the business question outlined above. If it has no significance it can be removed later, another metric I could add would be a like to dislike ratio. I want to see if there is a relation between a video with more likes recieving more views."
   ]
  },
  {
   "cell_type": "code",
   "execution_count": 56,
   "id": "c6709bd3",
   "metadata": {},
   "outputs": [
    {
     "data": {
      "text/html": [
       "<div>\n",
       "<style scoped>\n",
       "    .dataframe tbody tr th:only-of-type {\n",
       "        vertical-align: middle;\n",
       "    }\n",
       "\n",
       "    .dataframe tbody tr th {\n",
       "        vertical-align: top;\n",
       "    }\n",
       "\n",
       "    .dataframe thead th {\n",
       "        text-align: right;\n",
       "    }\n",
       "</style>\n",
       "<table border=\"1\" class=\"dataframe\">\n",
       "  <thead>\n",
       "    <tr style=\"text-align: right;\">\n",
       "      <th></th>\n",
       "      <th>video_id</th>\n",
       "      <th>trending_date</th>\n",
       "      <th>title</th>\n",
       "      <th>channel_title</th>\n",
       "      <th>category_id</th>\n",
       "      <th>publish_time</th>\n",
       "      <th>tags</th>\n",
       "      <th>views</th>\n",
       "      <th>likes</th>\n",
       "      <th>dislikes</th>\n",
       "      <th>comment_count</th>\n",
       "      <th>thumbnail_link</th>\n",
       "      <th>comments_disabled</th>\n",
       "      <th>ratings_disabled</th>\n",
       "      <th>video_error_or_removed</th>\n",
       "      <th>description</th>\n",
       "      <th>Interactivity Ratio</th>\n",
       "      <th>like_to_dislike</th>\n",
       "      <th>is_viral</th>\n",
       "    </tr>\n",
       "  </thead>\n",
       "  <tbody>\n",
       "    <tr>\n",
       "      <th>0</th>\n",
       "      <td>n1WpP7iowLc</td>\n",
       "      <td>17.14.11</td>\n",
       "      <td>Eminem - Walk On Water (Audio) ft. Beyoncé</td>\n",
       "      <td>EminemVEVO</td>\n",
       "      <td>10</td>\n",
       "      <td>2017-11-10T17:00:03.000Z</td>\n",
       "      <td>Eminem|\"Walk\"|\"On\"|\"Water\"|\"Aftermath/Shady/In...</td>\n",
       "      <td>17158579</td>\n",
       "      <td>787425</td>\n",
       "      <td>43420</td>\n",
       "      <td>125882</td>\n",
       "      <td>https://i.ytimg.com/vi/n1WpP7iowLc/default.jpg</td>\n",
       "      <td>False</td>\n",
       "      <td>False</td>\n",
       "      <td>False</td>\n",
       "      <td>Eminem's new track Walk on Water ft. Beyoncé i...</td>\n",
       "      <td>8.308457e+05</td>\n",
       "      <td>18.135076</td>\n",
       "      <td>True</td>\n",
       "    </tr>\n",
       "    <tr>\n",
       "      <th>1</th>\n",
       "      <td>0dBIkQ4Mz1M</td>\n",
       "      <td>17.14.11</td>\n",
       "      <td>PLUSH - Bad Unboxing Fan Mail</td>\n",
       "      <td>iDubbbzTV</td>\n",
       "      <td>23</td>\n",
       "      <td>2017-11-13T17:00:00.000Z</td>\n",
       "      <td>plush|\"bad unboxing\"|\"unboxing\"|\"fan mail\"|\"id...</td>\n",
       "      <td>1014651</td>\n",
       "      <td>127794</td>\n",
       "      <td>1688</td>\n",
       "      <td>13030</td>\n",
       "      <td>https://i.ytimg.com/vi/0dBIkQ4Mz1M/default.jpg</td>\n",
       "      <td>False</td>\n",
       "      <td>False</td>\n",
       "      <td>False</td>\n",
       "      <td>STill got a lot of packages. Probably will las...</td>\n",
       "      <td>1.294833e+05</td>\n",
       "      <td>75.707346</td>\n",
       "      <td>True</td>\n",
       "    </tr>\n",
       "    <tr>\n",
       "      <th>2</th>\n",
       "      <td>5qpjK5DgCt4</td>\n",
       "      <td>17.14.11</td>\n",
       "      <td>Racist Superman | Rudy Mancuso, King Bach &amp; Le...</td>\n",
       "      <td>Rudy Mancuso</td>\n",
       "      <td>23</td>\n",
       "      <td>2017-11-12T19:05:24.000Z</td>\n",
       "      <td>racist superman|\"rudy\"|\"mancuso\"|\"king\"|\"bach\"...</td>\n",
       "      <td>3191434</td>\n",
       "      <td>146035</td>\n",
       "      <td>5339</td>\n",
       "      <td>8181</td>\n",
       "      <td>https://i.ytimg.com/vi/5qpjK5DgCt4/default.jpg</td>\n",
       "      <td>False</td>\n",
       "      <td>False</td>\n",
       "      <td>False</td>\n",
       "      <td>WATCH MY PREVIOUS VIDEO ▶ \\n\\nSUBSCRIBE ► http...</td>\n",
       "      <td>1.513743e+05</td>\n",
       "      <td>27.352500</td>\n",
       "      <td>True</td>\n",
       "    </tr>\n",
       "    <tr>\n",
       "      <th>3</th>\n",
       "      <td>d380meD0W0M</td>\n",
       "      <td>17.14.11</td>\n",
       "      <td>I Dare You: GOING BALD!?</td>\n",
       "      <td>nigahiga</td>\n",
       "      <td>24</td>\n",
       "      <td>2017-11-12T18:01:41.000Z</td>\n",
       "      <td>ryan|\"higa\"|\"higatv\"|\"nigahiga\"|\"i dare you\"|\"...</td>\n",
       "      <td>2095828</td>\n",
       "      <td>132239</td>\n",
       "      <td>1989</td>\n",
       "      <td>17518</td>\n",
       "      <td>https://i.ytimg.com/vi/d380meD0W0M/default.jpg</td>\n",
       "      <td>False</td>\n",
       "      <td>False</td>\n",
       "      <td>False</td>\n",
       "      <td>I know it's been a while since we did this sho...</td>\n",
       "      <td>1.342288e+05</td>\n",
       "      <td>66.485168</td>\n",
       "      <td>True</td>\n",
       "    </tr>\n",
       "    <tr>\n",
       "      <th>4</th>\n",
       "      <td>2Vv-BfVoq4g</td>\n",
       "      <td>17.14.11</td>\n",
       "      <td>Ed Sheeran - Perfect (Official Music Video)</td>\n",
       "      <td>Ed Sheeran</td>\n",
       "      <td>10</td>\n",
       "      <td>2017-11-09T11:04:14.000Z</td>\n",
       "      <td>edsheeran|\"ed sheeran\"|\"acoustic\"|\"live\"|\"cove...</td>\n",
       "      <td>33523622</td>\n",
       "      <td>1634130</td>\n",
       "      <td>21082</td>\n",
       "      <td>85067</td>\n",
       "      <td>https://i.ytimg.com/vi/2Vv-BfVoq4g/default.jpg</td>\n",
       "      <td>False</td>\n",
       "      <td>False</td>\n",
       "      <td>False</td>\n",
       "      <td>🎧: https://ad.gt/yt-perfect\\n💰: https://atlant...</td>\n",
       "      <td>1.655212e+06</td>\n",
       "      <td>77.513044</td>\n",
       "      <td>True</td>\n",
       "    </tr>\n",
       "  </tbody>\n",
       "</table>\n",
       "</div>"
      ],
      "text/plain": [
       "      video_id trending_date  \\\n",
       "0  n1WpP7iowLc      17.14.11   \n",
       "1  0dBIkQ4Mz1M      17.14.11   \n",
       "2  5qpjK5DgCt4      17.14.11   \n",
       "3  d380meD0W0M      17.14.11   \n",
       "4  2Vv-BfVoq4g      17.14.11   \n",
       "\n",
       "                                               title channel_title  \\\n",
       "0         Eminem - Walk On Water (Audio) ft. Beyoncé    EminemVEVO   \n",
       "1                      PLUSH - Bad Unboxing Fan Mail     iDubbbzTV   \n",
       "2  Racist Superman | Rudy Mancuso, King Bach & Le...  Rudy Mancuso   \n",
       "3                           I Dare You: GOING BALD!?      nigahiga   \n",
       "4        Ed Sheeran - Perfect (Official Music Video)    Ed Sheeran   \n",
       "\n",
       "   category_id              publish_time  \\\n",
       "0           10  2017-11-10T17:00:03.000Z   \n",
       "1           23  2017-11-13T17:00:00.000Z   \n",
       "2           23  2017-11-12T19:05:24.000Z   \n",
       "3           24  2017-11-12T18:01:41.000Z   \n",
       "4           10  2017-11-09T11:04:14.000Z   \n",
       "\n",
       "                                                tags     views    likes  \\\n",
       "0  Eminem|\"Walk\"|\"On\"|\"Water\"|\"Aftermath/Shady/In...  17158579   787425   \n",
       "1  plush|\"bad unboxing\"|\"unboxing\"|\"fan mail\"|\"id...   1014651   127794   \n",
       "2  racist superman|\"rudy\"|\"mancuso\"|\"king\"|\"bach\"...   3191434   146035   \n",
       "3  ryan|\"higa\"|\"higatv\"|\"nigahiga\"|\"i dare you\"|\"...   2095828   132239   \n",
       "4  edsheeran|\"ed sheeran\"|\"acoustic\"|\"live\"|\"cove...  33523622  1634130   \n",
       "\n",
       "   dislikes  comment_count                                  thumbnail_link  \\\n",
       "0     43420         125882  https://i.ytimg.com/vi/n1WpP7iowLc/default.jpg   \n",
       "1      1688          13030  https://i.ytimg.com/vi/0dBIkQ4Mz1M/default.jpg   \n",
       "2      5339           8181  https://i.ytimg.com/vi/5qpjK5DgCt4/default.jpg   \n",
       "3      1989          17518  https://i.ytimg.com/vi/d380meD0W0M/default.jpg   \n",
       "4     21082          85067  https://i.ytimg.com/vi/2Vv-BfVoq4g/default.jpg   \n",
       "\n",
       "   comments_disabled  ratings_disabled  video_error_or_removed  \\\n",
       "0              False             False                   False   \n",
       "1              False             False                   False   \n",
       "2              False             False                   False   \n",
       "3              False             False                   False   \n",
       "4              False             False                   False   \n",
       "\n",
       "                                         description  Interactivity Ratio  \\\n",
       "0  Eminem's new track Walk on Water ft. Beyoncé i...         8.308457e+05   \n",
       "1  STill got a lot of packages. Probably will las...         1.294833e+05   \n",
       "2  WATCH MY PREVIOUS VIDEO ▶ \\n\\nSUBSCRIBE ► http...         1.513743e+05   \n",
       "3  I know it's been a while since we did this sho...         1.342288e+05   \n",
       "4  🎧: https://ad.gt/yt-perfect\\n💰: https://atlant...         1.655212e+06   \n",
       "\n",
       "   like_to_dislike  is_viral  \n",
       "0        18.135076      True  \n",
       "1        75.707346      True  \n",
       "2        27.352500      True  \n",
       "3        66.485168      True  \n",
       "4        77.513044      True  "
      ]
     },
     "execution_count": 56,
     "metadata": {},
     "output_type": "execute_result"
    }
   ],
   "source": [
    "# Taking the amount of likes and dividing it by dislikes to get a ratio \n",
    "df['like_to_dislike'] = df['likes'] / df['dislikes']\n",
    "df.head()"
   ]
  },
  {
   "cell_type": "markdown",
   "id": "bc9352ed",
   "metadata": {},
   "source": [
    "I have made the like to dislike ratio in a way that if a video has more likes than dislikes the value will be positive and if a video has more dislikes than likes it will be a negative value. "
   ]
  },
  {
   "cell_type": "code",
   "execution_count": 8,
   "id": "0ab32e5b",
   "metadata": {},
   "outputs": [
    {
     "data": {
      "text/html": [
       "<div>\n",
       "<style scoped>\n",
       "    .dataframe tbody tr th:only-of-type {\n",
       "        vertical-align: middle;\n",
       "    }\n",
       "\n",
       "    .dataframe tbody tr th {\n",
       "        vertical-align: top;\n",
       "    }\n",
       "\n",
       "    .dataframe thead th {\n",
       "        text-align: right;\n",
       "    }\n",
       "</style>\n",
       "<table border=\"1\" class=\"dataframe\">\n",
       "  <thead>\n",
       "    <tr style=\"text-align: right;\">\n",
       "      <th></th>\n",
       "      <th>video_id</th>\n",
       "      <th>trending_date</th>\n",
       "      <th>title</th>\n",
       "      <th>channel_title</th>\n",
       "      <th>category_id</th>\n",
       "      <th>publish_time</th>\n",
       "      <th>tags</th>\n",
       "      <th>views</th>\n",
       "      <th>likes</th>\n",
       "      <th>dislikes</th>\n",
       "      <th>comment_count</th>\n",
       "      <th>thumbnail_link</th>\n",
       "      <th>comments_disabled</th>\n",
       "      <th>ratings_disabled</th>\n",
       "      <th>video_error_or_removed</th>\n",
       "      <th>description</th>\n",
       "      <th>Interactivity Ratio</th>\n",
       "      <th>like_to_dislike</th>\n",
       "      <th>is_viral</th>\n",
       "    </tr>\n",
       "  </thead>\n",
       "  <tbody>\n",
       "    <tr>\n",
       "      <th>0</th>\n",
       "      <td>n1WpP7iowLc</td>\n",
       "      <td>17.14.11</td>\n",
       "      <td>Eminem - Walk On Water (Audio) ft. Beyoncé</td>\n",
       "      <td>EminemVEVO</td>\n",
       "      <td>10</td>\n",
       "      <td>2017-11-10T17:00:03.000Z</td>\n",
       "      <td>Eminem|\"Walk\"|\"On\"|\"Water\"|\"Aftermath/Shady/In...</td>\n",
       "      <td>17158579</td>\n",
       "      <td>787425</td>\n",
       "      <td>43420</td>\n",
       "      <td>125882</td>\n",
       "      <td>https://i.ytimg.com/vi/n1WpP7iowLc/default.jpg</td>\n",
       "      <td>False</td>\n",
       "      <td>False</td>\n",
       "      <td>False</td>\n",
       "      <td>Eminem's new track Walk on Water ft. Beyoncé i...</td>\n",
       "      <td>8.308457e+05</td>\n",
       "      <td>18.135076</td>\n",
       "      <td>True</td>\n",
       "    </tr>\n",
       "    <tr>\n",
       "      <th>1</th>\n",
       "      <td>0dBIkQ4Mz1M</td>\n",
       "      <td>17.14.11</td>\n",
       "      <td>PLUSH - Bad Unboxing Fan Mail</td>\n",
       "      <td>iDubbbzTV</td>\n",
       "      <td>23</td>\n",
       "      <td>2017-11-13T17:00:00.000Z</td>\n",
       "      <td>plush|\"bad unboxing\"|\"unboxing\"|\"fan mail\"|\"id...</td>\n",
       "      <td>1014651</td>\n",
       "      <td>127794</td>\n",
       "      <td>1688</td>\n",
       "      <td>13030</td>\n",
       "      <td>https://i.ytimg.com/vi/0dBIkQ4Mz1M/default.jpg</td>\n",
       "      <td>False</td>\n",
       "      <td>False</td>\n",
       "      <td>False</td>\n",
       "      <td>STill got a lot of packages. Probably will las...</td>\n",
       "      <td>1.294833e+05</td>\n",
       "      <td>75.707346</td>\n",
       "      <td>True</td>\n",
       "    </tr>\n",
       "    <tr>\n",
       "      <th>2</th>\n",
       "      <td>5qpjK5DgCt4</td>\n",
       "      <td>17.14.11</td>\n",
       "      <td>Racist Superman | Rudy Mancuso, King Bach &amp; Le...</td>\n",
       "      <td>Rudy Mancuso</td>\n",
       "      <td>23</td>\n",
       "      <td>2017-11-12T19:05:24.000Z</td>\n",
       "      <td>racist superman|\"rudy\"|\"mancuso\"|\"king\"|\"bach\"...</td>\n",
       "      <td>3191434</td>\n",
       "      <td>146035</td>\n",
       "      <td>5339</td>\n",
       "      <td>8181</td>\n",
       "      <td>https://i.ytimg.com/vi/5qpjK5DgCt4/default.jpg</td>\n",
       "      <td>False</td>\n",
       "      <td>False</td>\n",
       "      <td>False</td>\n",
       "      <td>WATCH MY PREVIOUS VIDEO ▶ \\n\\nSUBSCRIBE ► http...</td>\n",
       "      <td>1.513743e+05</td>\n",
       "      <td>27.352500</td>\n",
       "      <td>True</td>\n",
       "    </tr>\n",
       "    <tr>\n",
       "      <th>3</th>\n",
       "      <td>d380meD0W0M</td>\n",
       "      <td>17.14.11</td>\n",
       "      <td>I Dare You: GOING BALD!?</td>\n",
       "      <td>nigahiga</td>\n",
       "      <td>24</td>\n",
       "      <td>2017-11-12T18:01:41.000Z</td>\n",
       "      <td>ryan|\"higa\"|\"higatv\"|\"nigahiga\"|\"i dare you\"|\"...</td>\n",
       "      <td>2095828</td>\n",
       "      <td>132239</td>\n",
       "      <td>1989</td>\n",
       "      <td>17518</td>\n",
       "      <td>https://i.ytimg.com/vi/d380meD0W0M/default.jpg</td>\n",
       "      <td>False</td>\n",
       "      <td>False</td>\n",
       "      <td>False</td>\n",
       "      <td>I know it's been a while since we did this sho...</td>\n",
       "      <td>1.342288e+05</td>\n",
       "      <td>66.485168</td>\n",
       "      <td>True</td>\n",
       "    </tr>\n",
       "    <tr>\n",
       "      <th>4</th>\n",
       "      <td>2Vv-BfVoq4g</td>\n",
       "      <td>17.14.11</td>\n",
       "      <td>Ed Sheeran - Perfect (Official Music Video)</td>\n",
       "      <td>Ed Sheeran</td>\n",
       "      <td>10</td>\n",
       "      <td>2017-11-09T11:04:14.000Z</td>\n",
       "      <td>edsheeran|\"ed sheeran\"|\"acoustic\"|\"live\"|\"cove...</td>\n",
       "      <td>33523622</td>\n",
       "      <td>1634130</td>\n",
       "      <td>21082</td>\n",
       "      <td>85067</td>\n",
       "      <td>https://i.ytimg.com/vi/2Vv-BfVoq4g/default.jpg</td>\n",
       "      <td>False</td>\n",
       "      <td>False</td>\n",
       "      <td>False</td>\n",
       "      <td>🎧: https://ad.gt/yt-perfect\\n💰: https://atlant...</td>\n",
       "      <td>1.655212e+06</td>\n",
       "      <td>77.513044</td>\n",
       "      <td>True</td>\n",
       "    </tr>\n",
       "  </tbody>\n",
       "</table>\n",
       "</div>"
      ],
      "text/plain": [
       "      video_id trending_date  \\\n",
       "0  n1WpP7iowLc      17.14.11   \n",
       "1  0dBIkQ4Mz1M      17.14.11   \n",
       "2  5qpjK5DgCt4      17.14.11   \n",
       "3  d380meD0W0M      17.14.11   \n",
       "4  2Vv-BfVoq4g      17.14.11   \n",
       "\n",
       "                                               title channel_title  \\\n",
       "0         Eminem - Walk On Water (Audio) ft. Beyoncé    EminemVEVO   \n",
       "1                      PLUSH - Bad Unboxing Fan Mail     iDubbbzTV   \n",
       "2  Racist Superman | Rudy Mancuso, King Bach & Le...  Rudy Mancuso   \n",
       "3                           I Dare You: GOING BALD!?      nigahiga   \n",
       "4        Ed Sheeran - Perfect (Official Music Video)    Ed Sheeran   \n",
       "\n",
       "   category_id              publish_time  \\\n",
       "0           10  2017-11-10T17:00:03.000Z   \n",
       "1           23  2017-11-13T17:00:00.000Z   \n",
       "2           23  2017-11-12T19:05:24.000Z   \n",
       "3           24  2017-11-12T18:01:41.000Z   \n",
       "4           10  2017-11-09T11:04:14.000Z   \n",
       "\n",
       "                                                tags     views    likes  \\\n",
       "0  Eminem|\"Walk\"|\"On\"|\"Water\"|\"Aftermath/Shady/In...  17158579   787425   \n",
       "1  plush|\"bad unboxing\"|\"unboxing\"|\"fan mail\"|\"id...   1014651   127794   \n",
       "2  racist superman|\"rudy\"|\"mancuso\"|\"king\"|\"bach\"...   3191434   146035   \n",
       "3  ryan|\"higa\"|\"higatv\"|\"nigahiga\"|\"i dare you\"|\"...   2095828   132239   \n",
       "4  edsheeran|\"ed sheeran\"|\"acoustic\"|\"live\"|\"cove...  33523622  1634130   \n",
       "\n",
       "   dislikes  comment_count                                  thumbnail_link  \\\n",
       "0     43420         125882  https://i.ytimg.com/vi/n1WpP7iowLc/default.jpg   \n",
       "1      1688          13030  https://i.ytimg.com/vi/0dBIkQ4Mz1M/default.jpg   \n",
       "2      5339           8181  https://i.ytimg.com/vi/5qpjK5DgCt4/default.jpg   \n",
       "3      1989          17518  https://i.ytimg.com/vi/d380meD0W0M/default.jpg   \n",
       "4     21082          85067  https://i.ytimg.com/vi/2Vv-BfVoq4g/default.jpg   \n",
       "\n",
       "   comments_disabled  ratings_disabled  video_error_or_removed  \\\n",
       "0              False             False                   False   \n",
       "1              False             False                   False   \n",
       "2              False             False                   False   \n",
       "3              False             False                   False   \n",
       "4              False             False                   False   \n",
       "\n",
       "                                         description  Interactivity Ratio  \\\n",
       "0  Eminem's new track Walk on Water ft. Beyoncé i...         8.308457e+05   \n",
       "1  STill got a lot of packages. Probably will las...         1.294833e+05   \n",
       "2  WATCH MY PREVIOUS VIDEO ▶ \\n\\nSUBSCRIBE ► http...         1.513743e+05   \n",
       "3  I know it's been a while since we did this sho...         1.342288e+05   \n",
       "4  🎧: https://ad.gt/yt-perfect\\n💰: https://atlant...         1.655212e+06   \n",
       "\n",
       "   like_to_dislike  is_viral  \n",
       "0        18.135076      True  \n",
       "1        75.707346      True  \n",
       "2        27.352500      True  \n",
       "3        66.485168      True  \n",
       "4        77.513044      True  "
      ]
     },
     "execution_count": 8,
     "metadata": {},
     "output_type": "execute_result"
    }
   ],
   "source": [
    "# creating my metric as being anything over 1 million views as being my threshold value\n",
    "df['is_viral'] = df['views'] >=1000000 \n",
    "df.head()"
   ]
  },
  {
   "cell_type": "markdown",
   "id": "5f731af1",
   "metadata": {},
   "source": [
    "I created a new column that I will be using as my target variable for my models going forward. I am going to define a videos success by the amount of views being equal to or greater than 1 million total views."
   ]
  },
  {
   "cell_type": "code",
   "execution_count": 9,
   "id": "03c920fc",
   "metadata": {},
   "outputs": [
    {
     "data": {
      "text/plain": [
       "False    30996\n",
       "True      9885\n",
       "Name: is_viral, dtype: int64"
      ]
     },
     "execution_count": 9,
     "metadata": {},
     "output_type": "execute_result"
    }
   ],
   "source": [
    "#checking to see if my data is unbalanced\n",
    "df[\"is_viral\"].value_counts()"
   ]
  },
  {
   "cell_type": "code",
   "execution_count": 10,
   "id": "88f257f0",
   "metadata": {},
   "outputs": [
    {
     "data": {
      "text/html": [
       "<div>\n",
       "<style scoped>\n",
       "    .dataframe tbody tr th:only-of-type {\n",
       "        vertical-align: middle;\n",
       "    }\n",
       "\n",
       "    .dataframe tbody tr th {\n",
       "        vertical-align: top;\n",
       "    }\n",
       "\n",
       "    .dataframe thead th {\n",
       "        text-align: right;\n",
       "    }\n",
       "</style>\n",
       "<table border=\"1\" class=\"dataframe\">\n",
       "  <thead>\n",
       "    <tr style=\"text-align: right;\">\n",
       "      <th></th>\n",
       "      <th>video_id</th>\n",
       "      <th>trending_date</th>\n",
       "      <th>title</th>\n",
       "      <th>channel_title</th>\n",
       "      <th>category_id</th>\n",
       "      <th>publish_time</th>\n",
       "      <th>tags</th>\n",
       "      <th>views</th>\n",
       "      <th>likes</th>\n",
       "      <th>dislikes</th>\n",
       "      <th>comment_count</th>\n",
       "      <th>thumbnail_link</th>\n",
       "      <th>comments_disabled</th>\n",
       "      <th>ratings_disabled</th>\n",
       "      <th>video_error_or_removed</th>\n",
       "      <th>description</th>\n",
       "      <th>Interactivity Ratio</th>\n",
       "      <th>like_to_dislike</th>\n",
       "      <th>is_viral</th>\n",
       "    </tr>\n",
       "  </thead>\n",
       "  <tbody>\n",
       "    <tr>\n",
       "      <th>0</th>\n",
       "      <td>n1WpP7iowLc</td>\n",
       "      <td>17.14.11</td>\n",
       "      <td>Eminem - Walk On Water (Audio) ft. Beyoncé</td>\n",
       "      <td>EminemVEVO</td>\n",
       "      <td>10</td>\n",
       "      <td>2017-11-10T17:00:03.000Z</td>\n",
       "      <td>Eminem|\"Walk\"|\"On\"|\"Water\"|\"Aftermath/Shady/In...</td>\n",
       "      <td>17158579</td>\n",
       "      <td>787425</td>\n",
       "      <td>43420</td>\n",
       "      <td>125882</td>\n",
       "      <td>https://i.ytimg.com/vi/n1WpP7iowLc/default.jpg</td>\n",
       "      <td>False</td>\n",
       "      <td>False</td>\n",
       "      <td>False</td>\n",
       "      <td>Eminem's new track Walk on Water ft. Beyoncé i...</td>\n",
       "      <td>8.308457e+05</td>\n",
       "      <td>18.135076</td>\n",
       "      <td>True</td>\n",
       "    </tr>\n",
       "    <tr>\n",
       "      <th>1</th>\n",
       "      <td>0dBIkQ4Mz1M</td>\n",
       "      <td>17.14.11</td>\n",
       "      <td>PLUSH - Bad Unboxing Fan Mail</td>\n",
       "      <td>iDubbbzTV</td>\n",
       "      <td>23</td>\n",
       "      <td>2017-11-13T17:00:00.000Z</td>\n",
       "      <td>plush|\"bad unboxing\"|\"unboxing\"|\"fan mail\"|\"id...</td>\n",
       "      <td>1014651</td>\n",
       "      <td>127794</td>\n",
       "      <td>1688</td>\n",
       "      <td>13030</td>\n",
       "      <td>https://i.ytimg.com/vi/0dBIkQ4Mz1M/default.jpg</td>\n",
       "      <td>False</td>\n",
       "      <td>False</td>\n",
       "      <td>False</td>\n",
       "      <td>STill got a lot of packages. Probably will las...</td>\n",
       "      <td>1.294833e+05</td>\n",
       "      <td>75.707346</td>\n",
       "      <td>True</td>\n",
       "    </tr>\n",
       "    <tr>\n",
       "      <th>2</th>\n",
       "      <td>5qpjK5DgCt4</td>\n",
       "      <td>17.14.11</td>\n",
       "      <td>Racist Superman | Rudy Mancuso, King Bach &amp; Le...</td>\n",
       "      <td>Rudy Mancuso</td>\n",
       "      <td>23</td>\n",
       "      <td>2017-11-12T19:05:24.000Z</td>\n",
       "      <td>racist superman|\"rudy\"|\"mancuso\"|\"king\"|\"bach\"...</td>\n",
       "      <td>3191434</td>\n",
       "      <td>146035</td>\n",
       "      <td>5339</td>\n",
       "      <td>8181</td>\n",
       "      <td>https://i.ytimg.com/vi/5qpjK5DgCt4/default.jpg</td>\n",
       "      <td>False</td>\n",
       "      <td>False</td>\n",
       "      <td>False</td>\n",
       "      <td>WATCH MY PREVIOUS VIDEO ▶ \\n\\nSUBSCRIBE ► http...</td>\n",
       "      <td>1.513743e+05</td>\n",
       "      <td>27.352500</td>\n",
       "      <td>True</td>\n",
       "    </tr>\n",
       "    <tr>\n",
       "      <th>3</th>\n",
       "      <td>d380meD0W0M</td>\n",
       "      <td>17.14.11</td>\n",
       "      <td>I Dare You: GOING BALD!?</td>\n",
       "      <td>nigahiga</td>\n",
       "      <td>24</td>\n",
       "      <td>2017-11-12T18:01:41.000Z</td>\n",
       "      <td>ryan|\"higa\"|\"higatv\"|\"nigahiga\"|\"i dare you\"|\"...</td>\n",
       "      <td>2095828</td>\n",
       "      <td>132239</td>\n",
       "      <td>1989</td>\n",
       "      <td>17518</td>\n",
       "      <td>https://i.ytimg.com/vi/d380meD0W0M/default.jpg</td>\n",
       "      <td>False</td>\n",
       "      <td>False</td>\n",
       "      <td>False</td>\n",
       "      <td>I know it's been a while since we did this sho...</td>\n",
       "      <td>1.342288e+05</td>\n",
       "      <td>66.485168</td>\n",
       "      <td>True</td>\n",
       "    </tr>\n",
       "    <tr>\n",
       "      <th>4</th>\n",
       "      <td>2Vv-BfVoq4g</td>\n",
       "      <td>17.14.11</td>\n",
       "      <td>Ed Sheeran - Perfect (Official Music Video)</td>\n",
       "      <td>Ed Sheeran</td>\n",
       "      <td>10</td>\n",
       "      <td>2017-11-09T11:04:14.000Z</td>\n",
       "      <td>edsheeran|\"ed sheeran\"|\"acoustic\"|\"live\"|\"cove...</td>\n",
       "      <td>33523622</td>\n",
       "      <td>1634130</td>\n",
       "      <td>21082</td>\n",
       "      <td>85067</td>\n",
       "      <td>https://i.ytimg.com/vi/2Vv-BfVoq4g/default.jpg</td>\n",
       "      <td>False</td>\n",
       "      <td>False</td>\n",
       "      <td>False</td>\n",
       "      <td>🎧: https://ad.gt/yt-perfect\\n💰: https://atlant...</td>\n",
       "      <td>1.655212e+06</td>\n",
       "      <td>77.513044</td>\n",
       "      <td>True</td>\n",
       "    </tr>\n",
       "  </tbody>\n",
       "</table>\n",
       "</div>"
      ],
      "text/plain": [
       "      video_id trending_date  \\\n",
       "0  n1WpP7iowLc      17.14.11   \n",
       "1  0dBIkQ4Mz1M      17.14.11   \n",
       "2  5qpjK5DgCt4      17.14.11   \n",
       "3  d380meD0W0M      17.14.11   \n",
       "4  2Vv-BfVoq4g      17.14.11   \n",
       "\n",
       "                                               title channel_title  \\\n",
       "0         Eminem - Walk On Water (Audio) ft. Beyoncé    EminemVEVO   \n",
       "1                      PLUSH - Bad Unboxing Fan Mail     iDubbbzTV   \n",
       "2  Racist Superman | Rudy Mancuso, King Bach & Le...  Rudy Mancuso   \n",
       "3                           I Dare You: GOING BALD!?      nigahiga   \n",
       "4        Ed Sheeran - Perfect (Official Music Video)    Ed Sheeran   \n",
       "\n",
       "   category_id              publish_time  \\\n",
       "0           10  2017-11-10T17:00:03.000Z   \n",
       "1           23  2017-11-13T17:00:00.000Z   \n",
       "2           23  2017-11-12T19:05:24.000Z   \n",
       "3           24  2017-11-12T18:01:41.000Z   \n",
       "4           10  2017-11-09T11:04:14.000Z   \n",
       "\n",
       "                                                tags     views    likes  \\\n",
       "0  Eminem|\"Walk\"|\"On\"|\"Water\"|\"Aftermath/Shady/In...  17158579   787425   \n",
       "1  plush|\"bad unboxing\"|\"unboxing\"|\"fan mail\"|\"id...   1014651   127794   \n",
       "2  racist superman|\"rudy\"|\"mancuso\"|\"king\"|\"bach\"...   3191434   146035   \n",
       "3  ryan|\"higa\"|\"higatv\"|\"nigahiga\"|\"i dare you\"|\"...   2095828   132239   \n",
       "4  edsheeran|\"ed sheeran\"|\"acoustic\"|\"live\"|\"cove...  33523622  1634130   \n",
       "\n",
       "   dislikes  comment_count                                  thumbnail_link  \\\n",
       "0     43420         125882  https://i.ytimg.com/vi/n1WpP7iowLc/default.jpg   \n",
       "1      1688          13030  https://i.ytimg.com/vi/0dBIkQ4Mz1M/default.jpg   \n",
       "2      5339           8181  https://i.ytimg.com/vi/5qpjK5DgCt4/default.jpg   \n",
       "3      1989          17518  https://i.ytimg.com/vi/d380meD0W0M/default.jpg   \n",
       "4     21082          85067  https://i.ytimg.com/vi/2Vv-BfVoq4g/default.jpg   \n",
       "\n",
       "   comments_disabled  ratings_disabled  video_error_or_removed  \\\n",
       "0              False             False                   False   \n",
       "1              False             False                   False   \n",
       "2              False             False                   False   \n",
       "3              False             False                   False   \n",
       "4              False             False                   False   \n",
       "\n",
       "                                         description  Interactivity Ratio  \\\n",
       "0  Eminem's new track Walk on Water ft. Beyoncé i...         8.308457e+05   \n",
       "1  STill got a lot of packages. Probably will las...         1.294833e+05   \n",
       "2  WATCH MY PREVIOUS VIDEO ▶ \\n\\nSUBSCRIBE ► http...         1.513743e+05   \n",
       "3  I know it's been a while since we did this sho...         1.342288e+05   \n",
       "4  🎧: https://ad.gt/yt-perfect\\n💰: https://atlant...         1.655212e+06   \n",
       "\n",
       "   like_to_dislike  is_viral  \n",
       "0        18.135076      True  \n",
       "1        75.707346      True  \n",
       "2        27.352500      True  \n",
       "3        66.485168      True  \n",
       "4        77.513044      True  "
      ]
     },
     "execution_count": 10,
     "metadata": {},
     "output_type": "execute_result"
    }
   ],
   "source": [
    "# viewing the data in a tabular format\n",
    "df.head()"
   ]
  },
  {
   "cell_type": "markdown",
   "id": "eebfb210",
   "metadata": {},
   "source": [
    "I have decided that I will be breaking the data down into a smaller sample of 50% of the original size. I have chosen to do this as run-time is lower with less overall data being inputted into the model."
   ]
  },
  {
   "cell_type": "code",
   "execution_count": 11,
   "id": "543f7a36",
   "metadata": {},
   "outputs": [
    {
     "data": {
      "text/plain": [
       "(20440, 19)"
      ]
     },
     "execution_count": 11,
     "metadata": {},
     "output_type": "execute_result"
    }
   ],
   "source": [
    "#using the frac aggregate in order to break the dataframe down into 50% of it original size\n",
    "df_m = df.sample(frac=0.50)\n",
    "df_m.shape"
   ]
  },
  {
   "cell_type": "markdown",
   "id": "3c5082b5",
   "metadata": {},
   "source": [
    "## Data Preprocessing\n",
    "In this next step I am going to drop columns that I feel are not representative of my metric(s) for example the thumbnail link and video id are entirely random and generated at the time of publishing. These can not be used in any way to figure out a videos popularity. I have also chosen to remove the trending date and publishing time here where the potential to use timeseries could be employed to define other metrics for example: views per day but I will not be looking into this at this moment. Another possible branch off would be using NLP models and count vectorizers in order to see if the # of tags contributes to total views."
   ]
  },
  {
   "cell_type": "code",
   "execution_count": 12,
   "id": "edcb60ae",
   "metadata": {},
   "outputs": [],
   "source": [
    "# dropping the selected columns\n",
    "df_m.drop(['channel_title', 'title', 'trending_date', 'video_id', 'tags', 'publish_time', 'thumbnail_link', 'description'],axis=1, inplace=True)"
   ]
  },
  {
   "cell_type": "markdown",
   "id": "31ee6769",
   "metadata": {},
   "source": [
    "Changing the data that is left over to numerical data is important before I can do any kind of modelling. I am not employing any kind of NLP based models here, I should have only the numerical columns left in my dataframe as I have removed the categorical columns for this purpose."
   ]
  },
  {
   "cell_type": "code",
   "execution_count": 13,
   "id": "62dd0c2b",
   "metadata": {},
   "outputs": [
    {
     "data": {
      "text/plain": [
       "category_id                 int64\n",
       "views                       int64\n",
       "likes                       int64\n",
       "dislikes                    int64\n",
       "comment_count               int64\n",
       "comments_disabled            bool\n",
       "ratings_disabled             bool\n",
       "video_error_or_removed       bool\n",
       "Interactivity Ratio       float64\n",
       "like_to_dislike           float64\n",
       "is_viral                     bool\n",
       "dtype: object"
      ]
     },
     "execution_count": 13,
     "metadata": {},
     "output_type": "execute_result"
    }
   ],
   "source": [
    "#checking the data types of the remaining columns\n",
    "df_m.dtypes"
   ]
  },
  {
   "cell_type": "markdown",
   "id": "3e5bcec8",
   "metadata": {},
   "source": [
    "Important note is that the bool data types are represented as 1 or 0.TRUE is represented as a 1 and anything with FALSE is represented as 0, I will however have to sort if there are any inf values and will do so in the next step."
   ]
  },
  {
   "cell_type": "code",
   "execution_count": 14,
   "id": "64a002b3",
   "metadata": {},
   "outputs": [],
   "source": [
    "#replacing the inf values as a nan as I know there are no nan values in my data\n",
    "df_m.replace([np.inf, -np.inf], np.nan, inplace=True)\n",
    "# dropping the new nan values and using inplace in order to have the data updated\n",
    "df_m.dropna(inplace=True)"
   ]
  },
  {
   "cell_type": "markdown",
   "id": "b69ce7a7",
   "metadata": {},
   "source": [
    "## Modelling and evaluations\n",
    "\n",
    "In this part I will be going over the modelling proccess, evaluating the models and some hyper parameter optimization. I will be starting with a logistic regression first unscaled to get a baseline and then I will move into trying 3 different scaling methods: Standard scaler, min-max and robust scaler. I will be verifying model accuracy between the train and test set as to not overfit or underfit my models."
   ]
  },
  {
   "cell_type": "code",
   "execution_count": 15,
   "id": "c43b9465",
   "metadata": {},
   "outputs": [
    {
     "name": "stdout",
     "output_type": "stream",
     "text": [
      "Train accuracy: 0.9250061774153694\n",
      "Test accuracy: 0.9261363636363636\n"
     ]
    }
   ],
   "source": [
    "# assigning the variables\n",
    "X = df_m.drop(columns='is_viral')\n",
    "y = df_m['is_viral']\n",
    "\n",
    "#splitting my train and test sets with a size of 20% as I believe this is a good start\n",
    "X_train, X_test, y_train, y_test = train_test_split(X, y, test_size=0.20, stratify=y, random_state=1)\n",
    "\n",
    "logreg = LogisticRegression( solver ='lbfgs')\n",
    "\n",
    "X_train, X_test, y_train, y_test = train_test_split(X, y, test_size=0.20, stratify=y, random_state=1)\n",
    "# fit model and score\n",
    "logreg.fit(X_train, y_train)\n",
    "print(f\"Train accuracy: {logreg.score(X_train, y_train)}\")\n",
    "print(f\"Test accuracy: {logreg.score(X_test, y_test)}\")"
   ]
  },
  {
   "cell_type": "markdown",
   "id": "5968474b",
   "metadata": {},
   "source": [
    "I have chosen to split the test size into 20% of the data and use the other 80% to train the data with a random state of 1 so that the results can be replicated over multiple times to keep the next steps comparable as I adjust the models."
   ]
  },
  {
   "cell_type": "code",
   "execution_count": 16,
   "id": "ba099c4f",
   "metadata": {},
   "outputs": [
    {
     "name": "stdout",
     "output_type": "stream",
     "text": [
      "---Standard Scaler data---\n",
      "Training accuracy: 0.9901161354089449\n",
      "TEST accuracy: 0.9903656126482213\n"
     ]
    }
   ],
   "source": [
    "#scaling the data\n",
    "scaler = StandardScaler()\n",
    "#refitting with the scaled data\n",
    "X_train_ss = scaler.fit_transform(X_train)\n",
    "X_test_ss = scaler.transform(X_test)\n",
    "# fit model on scaled data\n",
    "logit = logreg.fit(X_train_ss, y_train)\n",
    "# train accuracy\n",
    "logit_ss_train_acc = logit.score(X_train_ss, y_train)\n",
    "# test accuracy\n",
    "logit_ss_test_acc = logit.score(X_test_ss, y_test)\n",
    "\n",
    "print(\"---Standard Scaler data---\")\n",
    "print(f\"Training accuracy: {logit_ss_train_acc}\")\n",
    "print(f\"TEST accuracy: {logit_ss_test_acc}\")"
   ]
  },
  {
   "cell_type": "markdown",
   "id": "c4291f15",
   "metadata": {},
   "source": [
    "After scaling the data we can see that our accuracy has improved from getting ~92% to being closer to ~99%.The difference between our train and test set is <0.5% indicates that the model is not overfitting. Next I will be using a min-max scaler which will give each value a new value between 0 and 1."
   ]
  },
  {
   "cell_type": "code",
   "execution_count": 17,
   "id": "55ba353c",
   "metadata": {},
   "outputs": [
    {
     "name": "stdout",
     "output_type": "stream",
     "text": [
      "---MinMax Scaler data---\n",
      "Training accuracy: 0.8382134914751668\n",
      "TEST accuracy: 0.8344861660079052\n"
     ]
    }
   ],
   "source": [
    "#scaling the data\n",
    "mmscaler = MinMaxScaler()\n",
    "mmscaler.fit(X_train)\n",
    "# transform both the X_train and X_test data with the fitted scaler\n",
    "X_train_mm = mmscaler.transform(X_train)\n",
    "X_test_mm = mmscaler.transform(X_test)\n",
    "\n",
    "# fit model on scaled data\n",
    "logit = logreg.fit(X_train_mm, y_train)\n",
    "# train accuracy\n",
    "logit_mm_train_acc = logit.score(X_train_mm, y_train)\n",
    "# test accuracy\n",
    "logit_mm_test_acc = logit.score(X_test_mm, y_test)\n",
    "\n",
    "print(\"---MinMax Scaler data---\")\n",
    "print(f\"Training accuracy: {logit_mm_train_acc}\")\n",
    "print(f\"TEST accuracy: {logit_mm_test_acc}\")"
   ]
  },
  {
   "cell_type": "markdown",
   "id": "b662b76b",
   "metadata": {},
   "source": [
    "After trying to same test again with a min-max scaler we can see that our accuracy has actually decreased. A min-max scaler would not be correct in this instance as it is not appropriate to fit this kind of scaling on this model. Next i'll use a robust scaler which gets rid of the median and scales the data to a quantile range for example 1st quantile would be 25%."
   ]
  },
  {
   "cell_type": "code",
   "execution_count": 18,
   "id": "793159f8",
   "metadata": {},
   "outputs": [
    {
     "name": "stdout",
     "output_type": "stream",
     "text": [
      "---Robust Scaler data---\n",
      "Training accuracy: 0.9982085495428713\n",
      "TEST accuracy: 0.9975296442687747\n"
     ]
    }
   ],
   "source": [
    "# instantiate the scaler\n",
    "rscaler = RobustScaler()\n",
    "# fit the scaler to the X_train data\n",
    "rscaler.fit(X_train)\n",
    "# transform both the X_train and X_test data with the fitted scaler\n",
    "X_train_r = rscaler.transform(X_train)\n",
    "X_test_r = rscaler.transform(X_test)\n",
    "# fit model on scaled data\n",
    "logit = logreg.fit(X_train_r, y_train)\n",
    "# train accuracy\n",
    "logit_r_train_acc = logit.score(X_train_r, y_train)\n",
    "# test accuracy\n",
    "logit_r_test_acc = logit.score(X_test_r, y_test)\n",
    "\n",
    "print(\"---Robust Scaler data---\")\n",
    "print(f\"Training accuracy: {logit_r_train_acc}\")\n",
    "print(f\"TEST accuracy: {logit_r_test_acc}\")"
   ]
  },
  {
   "cell_type": "markdown",
   "id": "101eadb5",
   "metadata": {},
   "source": [
    "Now we can see that our train and test set have almost identical accuracy not seeing a difference until the 7th decimal place meaning that this scaling with our model fits the data very well. I will be using this as my model of best fit moving forward. Next I will try other types of machine learning and I will employ a K-Nearest Neighbours algorithm followed by a Decision Tree classifier."
   ]
  },
  {
   "cell_type": "code",
   "execution_count": 19,
   "id": "9aaf7dc7",
   "metadata": {},
   "outputs": [
    {
     "name": "stdout",
     "output_type": "stream",
     "text": [
      "Test set accuracy for robust scaler: 0.9696146245059288\n",
      "Test set accuracy for min/max scaler: 0.7524703557312253\n",
      "Test set accuracy for standard scaler: 0.8060770750988142\n"
     ]
    }
   ],
   "source": [
    "#instantiate the model with a number of neighbours set as 30\n",
    "KNN_model = KNeighborsClassifier(n_neighbors=15)\n",
    "#fit the model\n",
    "KNN_model.fit(X_train_r, y_train)\n",
    "\n",
    "# Score the model on the test set\n",
    "#robust scaler\n",
    "r_test_predictions = KNN_model.predict(X_test_r)\n",
    "r_test_accuracy = accuracy_score(r_test_predictions, y_test)\n",
    "print(f\"Test set accuracy for robust scaler: {r_test_accuracy}\")\n",
    "#min max scaler\n",
    "mm_test_predictions = KNN_model.predict(X_test_mm)\n",
    "mm_test_accuracy = accuracy_score(mm_test_predictions, y_test)\n",
    "print(f\"Test set accuracy for min/max scaler: {mm_test_accuracy}\")\n",
    "#standard scaler\n",
    "ss_test_predictions = KNN_model.predict(X_test_ss)\n",
    "ss_test_accuracy = accuracy_score(ss_test_predictions, y_test)\n",
    "print(f\"Test set accuracy for standard scaler: {ss_test_accuracy}\")"
   ]
  },
  {
   "cell_type": "markdown",
   "id": "dc050fb7",
   "metadata": {},
   "source": [
    "After employing our K-Nearest Neighbours a robust scaler has the best result. When using this model I have input a generic value for the number of neighbors which in this case will be taking a single point and measuring it against the nearest 15 data points. I will now do some hyper parameter optimization and find the best value to use in order to get a model of best fit for this type of learning."
   ]
  },
  {
   "cell_type": "code",
   "execution_count": 20,
   "id": "800ba6d8",
   "metadata": {},
   "outputs": [],
   "source": [
    "# Loop over different number of neighbors\n",
    "### SCALING\n",
    "train_accs_s = []\n",
    "test_accs_s = []\n",
    "\n",
    "for k in range(5,150):\n",
    "    \n",
    "    # Instantiate & fit\n",
    "    my_knn = KNeighborsClassifier(n_neighbors = k)\n",
    "    my_knn.fit(X_train_r, y_train)\n",
    "    \n",
    "    # Evaluate on train & test data\n",
    "    train_accs_s.append( my_knn.score(X_train_r, y_train) )\n",
    "    test_accs_s.append( my_knn.score(X_test_r, y_test) )"
   ]
  },
  {
   "cell_type": "code",
   "execution_count": 21,
   "id": "97641e9b",
   "metadata": {},
   "outputs": [
    {
     "data": {
      "image/png": "[encoded data removed]",
      "text/plain": [
       "<Figure size 1500x1000 with 1 Axes>"
      ]
     },
     "metadata": {},
     "output_type": "display_data"
    }
   ],
   "source": [
    "# plotting out our results using matplotlib\n",
    "plt.figure(figsize=(15, 10))\n",
    "plt.subplot(212) # plot scaled classifier results\n",
    "plt.plot(range(5,150), train_accs_s, label='train')\n",
    "plt.plot(range(5,150), test_accs_s, label='test')\n",
    "plt.legend()\n",
    "plt.xlabel('number of neighbors')\n",
    "plt.ylabel('accuracy')\n",
    "plt.title('KNN Accuracy')\n",
    "plt.show()"
   ]
  },
  {
   "cell_type": "markdown",
   "id": "3ec328b3",
   "metadata": {},
   "source": [
    "After plotting out our information of looping through each amount of neighbors the best hyper parameter number of neighbors is 50. This is because the difference between the train and test accuracy is at a point where it is closest together."
   ]
  },
  {
   "cell_type": "code",
   "execution_count": 38,
   "id": "3a761e93",
   "metadata": {},
   "outputs": [
    {
     "name": "stdout",
     "output_type": "stream",
     "text": [
      "Test set accuracy for robust scaler: 0.966897233201581\n",
      "Test set accuracy for min/max scaler: 0.7524703557312253\n",
      "Test set accuracy for standard scaler: 0.8031126482213439\n"
     ]
    }
   ],
   "source": [
    "#instantiate the model with a number of neighbours set as 30\n",
    "KNN_model = KNeighborsClassifier(n_neighbors=50)\n",
    "#fit the model\n",
    "KNN_model.fit(X_train_r, y_train)\n",
    "\n",
    "# Score the model on the test set\n",
    "#robust scaler\n",
    "r_test_predictions = KNN_model.predict(X_test_r)\n",
    "r_test_accuracy = accuracy_score(r_test_predictions, y_test)\n",
    "print(f\"Test set accuracy for robust scaler: {r_test_accuracy}\")\n",
    "#min max scaler\n",
    "mm_test_predictions = KNN_model.predict(X_test_mm)\n",
    "mm_test_accuracy = accuracy_score(mm_test_predictions, y_test)\n",
    "print(f\"Test set accuracy for min/max scaler: {mm_test_accuracy}\")\n",
    "#standard scaler\n",
    "ss_test_predictions = KNN_model.predict(X_test_ss)\n",
    "ss_test_accuracy = accuracy_score(ss_test_predictions, y_test)\n",
    "print(f\"Test set accuracy for standard scaler: {ss_test_accuracy}\")"
   ]
  },
  {
   "cell_type": "markdown",
   "id": "4ab2fc8b",
   "metadata": {},
   "source": [
    "Even though our accuracy in the test set has dropped our model overall is much more robust for use on new data that it hasnt seen before. Next step I will be training a decision tree classifier on the data set to see what kind of results I can get returned to me using another algorithm."
   ]
  },
  {
   "cell_type": "code",
   "execution_count": 23,
   "id": "b293e836",
   "metadata": {},
   "outputs": [
    {
     "name": "stdout",
     "output_type": "stream",
     "text": [
      "The train classification accuracy is:  1.0\n",
      "The test classification accuracy is:  0.9997529644268774\n"
     ]
    }
   ],
   "source": [
    "#Fit to the training data\n",
    "DT_model = DecisionTreeClassifier()\n",
    "DT_model.fit(X_train, y_train)\n",
    "#scoring the model\n",
    "print(f\"The train classification accuracy is:  {DT_model.score(X_train,y_train)}\")\n",
    "print(f\"The test classification accuracy is:  {DT_model.score(X_test,y_test)}\")"
   ]
  },
  {
   "cell_type": "markdown",
   "id": "8e0b4c01",
   "metadata": {},
   "source": [
    "Initially running the model results in the model is overfitting to the data. Decision trees are easy to overfit if you do not properly tune them. This has happened because I havent set a max_depth in the instantiaton of the model and I will now loop through the depths to optimize my hyper parameters."
   ]
  },
  {
   "cell_type": "code",
   "execution_count": 24,
   "id": "45a64ad7",
   "metadata": {},
   "outputs": [],
   "source": [
    "# Decision Tree accuracy testing\n",
    "\n",
    "train_accs_s = []\n",
    "test_accs_s = []\n",
    "depth_values = list(range(1,15))\n",
    "\n",
    "# Loop over different max_depths\n",
    "for d in depth_values:\n",
    "    \n",
    "    # Instantiate & fit\n",
    "    my_dt = DecisionTreeClassifier(max_depth = d)\n",
    "    my_dt.fit(X_train, y_train)\n",
    "    \n",
    "    # Evaluate on train & test data\n",
    "    train_accs_s.append( my_dt.score(X_train, y_train) )\n",
    "    test_accs_s.append( my_dt.score(X_test, y_test) )"
   ]
  },
  {
   "cell_type": "code",
   "execution_count": 25,
   "id": "8463b070",
   "metadata": {},
   "outputs": [
    {
     "data": {
      "image/png": "[encoded data removed]",
      "text/plain": [
       "<Figure size 1500x1000 with 1 Axes>"
      ]
     },
     "metadata": {},
     "output_type": "display_data"
    }
   ],
   "source": [
    "#plotting the results\n",
    "plt.figure(figsize=(15, 10))\n",
    "plt.subplot(212) # plot scaled classifier results\n",
    "plt.plot(depth_values, train_accs_s, label='train')\n",
    "plt.plot(depth_values, test_accs_s, label='test')\n",
    "plt.legend()\n",
    "plt.xlabel('max depth')\n",
    "plt.ylabel('accuracy')\n",
    "plt.title('DecisionTree Accuracy')\n",
    "plt.show()"
   ]
  },
  {
   "cell_type": "markdown",
   "id": "228a5988",
   "metadata": {},
   "source": [
    "After checking our best depth we can see that the model is over-fitting even with a max depth of 1 so now that I know its not a depth issue thats causing my model to over fit I will have to take a deeper look into correlations and feature importance as the model may have found a specific feature(s) that is contributing and abnormal amount to solving the problem statement."
   ]
  },
  {
   "cell_type": "code",
   "execution_count": 43,
   "id": "0955ed9e",
   "metadata": {},
   "outputs": [
    {
     "data": {
      "text/html": [
       "<div>\n",
       "<style scoped>\n",
       "    .dataframe tbody tr th:only-of-type {\n",
       "        vertical-align: middle;\n",
       "    }\n",
       "\n",
       "    .dataframe tbody tr th {\n",
       "        vertical-align: top;\n",
       "    }\n",
       "\n",
       "    .dataframe thead th {\n",
       "        text-align: right;\n",
       "    }\n",
       "</style>\n",
       "<table border=\"1\" class=\"dataframe\">\n",
       "  <thead>\n",
       "    <tr style=\"text-align: right;\">\n",
       "      <th></th>\n",
       "      <th>category_id</th>\n",
       "      <th>views</th>\n",
       "      <th>likes</th>\n",
       "      <th>dislikes</th>\n",
       "      <th>comment_count</th>\n",
       "      <th>comments_disabled</th>\n",
       "      <th>ratings_disabled</th>\n",
       "      <th>video_error_or_removed</th>\n",
       "      <th>Interactivity Ratio</th>\n",
       "      <th>like_to_dislike</th>\n",
       "      <th>is_viral</th>\n",
       "    </tr>\n",
       "  </thead>\n",
       "  <tbody>\n",
       "    <tr>\n",
       "      <th>category_id</th>\n",
       "      <td>1.000000</td>\n",
       "      <td>-0.142713</td>\n",
       "      <td>-0.147482</td>\n",
       "      <td>-0.029924</td>\n",
       "      <td>-0.068814</td>\n",
       "      <td>0.041730</td>\n",
       "      <td>NaN</td>\n",
       "      <td>-0.016966</td>\n",
       "      <td>-0.141121</td>\n",
       "      <td>-0.038680</td>\n",
       "      <td>-0.154972</td>\n",
       "    </tr>\n",
       "    <tr>\n",
       "      <th>views</th>\n",
       "      <td>-0.142713</td>\n",
       "      <td>1.000000</td>\n",
       "      <td>0.847144</td>\n",
       "      <td>0.560984</td>\n",
       "      <td>0.696973</td>\n",
       "      <td>-0.010600</td>\n",
       "      <td>NaN</td>\n",
       "      <td>0.001497</td>\n",
       "      <td>0.862533</td>\n",
       "      <td>-0.049931</td>\n",
       "      <td>0.431641</td>\n",
       "    </tr>\n",
       "    <tr>\n",
       "      <th>likes</th>\n",
       "      <td>-0.147482</td>\n",
       "      <td>0.847144</td>\n",
       "      <td>1.000000</td>\n",
       "      <td>0.474178</td>\n",
       "      <td>0.825659</td>\n",
       "      <td>-0.022589</td>\n",
       "      <td>NaN</td>\n",
       "      <td>0.002439</td>\n",
       "      <td>0.993073</td>\n",
       "      <td>0.044123</td>\n",
       "      <td>0.388941</td>\n",
       "    </tr>\n",
       "    <tr>\n",
       "      <th>dislikes</th>\n",
       "      <td>-0.029924</td>\n",
       "      <td>0.560984</td>\n",
       "      <td>0.474178</td>\n",
       "      <td>1.000000</td>\n",
       "      <td>0.665980</td>\n",
       "      <td>-0.006917</td>\n",
       "      <td>NaN</td>\n",
       "      <td>0.000661</td>\n",
       "      <td>0.574339</td>\n",
       "      <td>-0.045411</td>\n",
       "      <td>0.149676</td>\n",
       "    </tr>\n",
       "    <tr>\n",
       "      <th>comment_count</th>\n",
       "      <td>-0.068814</td>\n",
       "      <td>0.696973</td>\n",
       "      <td>0.825659</td>\n",
       "      <td>0.665980</td>\n",
       "      <td>1.000000</td>\n",
       "      <td>-0.026917</td>\n",
       "      <td>NaN</td>\n",
       "      <td>0.003349</td>\n",
       "      <td>0.856570</td>\n",
       "      <td>0.006481</td>\n",
       "      <td>0.272505</td>\n",
       "    </tr>\n",
       "    <tr>\n",
       "      <th>comments_disabled</th>\n",
       "      <td>0.041730</td>\n",
       "      <td>-0.010600</td>\n",
       "      <td>-0.022589</td>\n",
       "      <td>-0.006917</td>\n",
       "      <td>-0.026917</td>\n",
       "      <td>1.000000</td>\n",
       "      <td>NaN</td>\n",
       "      <td>-0.002752</td>\n",
       "      <td>-0.021926</td>\n",
       "      <td>-0.049928</td>\n",
       "      <td>-0.003215</td>\n",
       "    </tr>\n",
       "    <tr>\n",
       "      <th>ratings_disabled</th>\n",
       "      <td>NaN</td>\n",
       "      <td>NaN</td>\n",
       "      <td>NaN</td>\n",
       "      <td>NaN</td>\n",
       "      <td>NaN</td>\n",
       "      <td>NaN</td>\n",
       "      <td>NaN</td>\n",
       "      <td>NaN</td>\n",
       "      <td>NaN</td>\n",
       "      <td>NaN</td>\n",
       "      <td>NaN</td>\n",
       "    </tr>\n",
       "    <tr>\n",
       "      <th>video_error_or_removed</th>\n",
       "      <td>-0.016966</td>\n",
       "      <td>0.001497</td>\n",
       "      <td>0.002439</td>\n",
       "      <td>0.000661</td>\n",
       "      <td>0.003349</td>\n",
       "      <td>-0.002752</td>\n",
       "      <td>NaN</td>\n",
       "      <td>1.000000</td>\n",
       "      <td>0.002356</td>\n",
       "      <td>-0.007780</td>\n",
       "      <td>0.000137</td>\n",
       "    </tr>\n",
       "    <tr>\n",
       "      <th>Interactivity Ratio</th>\n",
       "      <td>-0.141121</td>\n",
       "      <td>0.862533</td>\n",
       "      <td>0.993073</td>\n",
       "      <td>0.574339</td>\n",
       "      <td>0.856570</td>\n",
       "      <td>-0.021926</td>\n",
       "      <td>NaN</td>\n",
       "      <td>0.002356</td>\n",
       "      <td>1.000000</td>\n",
       "      <td>0.034966</td>\n",
       "      <td>0.381609</td>\n",
       "    </tr>\n",
       "    <tr>\n",
       "      <th>like_to_dislike</th>\n",
       "      <td>-0.038680</td>\n",
       "      <td>-0.049931</td>\n",
       "      <td>0.044123</td>\n",
       "      <td>-0.045411</td>\n",
       "      <td>0.006481</td>\n",
       "      <td>-0.049928</td>\n",
       "      <td>NaN</td>\n",
       "      <td>-0.007780</td>\n",
       "      <td>0.034966</td>\n",
       "      <td>1.000000</td>\n",
       "      <td>-0.060722</td>\n",
       "    </tr>\n",
       "    <tr>\n",
       "      <th>is_viral</th>\n",
       "      <td>-0.154972</td>\n",
       "      <td>0.431641</td>\n",
       "      <td>0.388941</td>\n",
       "      <td>0.149676</td>\n",
       "      <td>0.272505</td>\n",
       "      <td>-0.003215</td>\n",
       "      <td>NaN</td>\n",
       "      <td>0.000137</td>\n",
       "      <td>0.381609</td>\n",
       "      <td>-0.060722</td>\n",
       "      <td>1.000000</td>\n",
       "    </tr>\n",
       "  </tbody>\n",
       "</table>\n",
       "</div>"
      ],
      "text/plain": [
       "                        category_id     views     likes  dislikes  \\\n",
       "category_id                1.000000 -0.142713 -0.147482 -0.029924   \n",
       "views                     -0.142713  1.000000  0.847144  0.560984   \n",
       "likes                     -0.147482  0.847144  1.000000  0.474178   \n",
       "dislikes                  -0.029924  0.560984  0.474178  1.000000   \n",
       "comment_count             -0.068814  0.696973  0.825659  0.665980   \n",
       "comments_disabled          0.041730 -0.010600 -0.022589 -0.006917   \n",
       "ratings_disabled                NaN       NaN       NaN       NaN   \n",
       "video_error_or_removed    -0.016966  0.001497  0.002439  0.000661   \n",
       "Interactivity Ratio       -0.141121  0.862533  0.993073  0.574339   \n",
       "like_to_dislike           -0.038680 -0.049931  0.044123 -0.045411   \n",
       "is_viral                  -0.154972  0.431641  0.388941  0.149676   \n",
       "\n",
       "                        comment_count  comments_disabled  ratings_disabled  \\\n",
       "category_id                 -0.068814           0.041730               NaN   \n",
       "views                        0.696973          -0.010600               NaN   \n",
       "likes                        0.825659          -0.022589               NaN   \n",
       "dislikes                     0.665980          -0.006917               NaN   \n",
       "comment_count                1.000000          -0.026917               NaN   \n",
       "comments_disabled           -0.026917           1.000000               NaN   \n",
       "ratings_disabled                  NaN                NaN               NaN   \n",
       "video_error_or_removed       0.003349          -0.002752               NaN   \n",
       "Interactivity Ratio          0.856570          -0.021926               NaN   \n",
       "like_to_dislike              0.006481          -0.049928               NaN   \n",
       "is_viral                     0.272505          -0.003215               NaN   \n",
       "\n",
       "                        video_error_or_removed  Interactivity Ratio  \\\n",
       "category_id                          -0.016966            -0.141121   \n",
       "views                                 0.001497             0.862533   \n",
       "likes                                 0.002439             0.993073   \n",
       "dislikes                              0.000661             0.574339   \n",
       "comment_count                         0.003349             0.856570   \n",
       "comments_disabled                    -0.002752            -0.021926   \n",
       "ratings_disabled                           NaN                  NaN   \n",
       "video_error_or_removed                1.000000             0.002356   \n",
       "Interactivity Ratio                   0.002356             1.000000   \n",
       "like_to_dislike                      -0.007780             0.034966   \n",
       "is_viral                              0.000137             0.381609   \n",
       "\n",
       "                        like_to_dislike  is_viral  \n",
       "category_id                   -0.038680 -0.154972  \n",
       "views                         -0.049931  0.431641  \n",
       "likes                          0.044123  0.388941  \n",
       "dislikes                      -0.045411  0.149676  \n",
       "comment_count                  0.006481  0.272505  \n",
       "comments_disabled             -0.049928 -0.003215  \n",
       "ratings_disabled                    NaN       NaN  \n",
       "video_error_or_removed        -0.007780  0.000137  \n",
       "Interactivity Ratio            0.034966  0.381609  \n",
       "like_to_dislike                1.000000 -0.060722  \n",
       "is_viral                      -0.060722  1.000000  "
      ]
     },
     "execution_count": 43,
     "metadata": {},
     "output_type": "execute_result"
    }
   ],
   "source": [
    "#checking the correlation values in a tabular format\n",
    "df_m.corr()"
   ]
  },
  {
   "cell_type": "code",
   "execution_count": 44,
   "id": "b82caf5e",
   "metadata": {},
   "outputs": [
    {
     "data": {
      "image/png": "[encoded data removed]",
      "text/plain": [
       "<Figure size 640x480 with 2 Axes>"
      ]
     },
     "metadata": {},
     "output_type": "display_data"
    }
   ],
   "source": [
    "#plotting the correlations in a heatmap using seaborn to get a more visual representation\n",
    "sns.heatmap(df_m.corr(), cmap='coolwarm')\n",
    "plt.show()"
   ]
  },
  {
   "cell_type": "markdown",
   "id": "cf26fc35",
   "metadata": {},
   "source": [
    "Checking the correlations visually to more easily pick out which columns are highly correlated shows that interactivity ratio is mostly correlated with likes however I believe that I should keep it included as I feel like it gives the model another set of information even if it is very similar to likes. I will also check the confusion matrix for the logistic regression as I am now evaluating the models more closely."
   ]
  },
  {
   "cell_type": "code",
   "execution_count": 60,
   "id": "6a06a666",
   "metadata": {},
   "outputs": [
    {
     "data": {
      "text/html": [
       "<div>\n",
       "<style scoped>\n",
       "    .dataframe tbody tr th:only-of-type {\n",
       "        vertical-align: middle;\n",
       "    }\n",
       "\n",
       "    .dataframe tbody tr th {\n",
       "        vertical-align: top;\n",
       "    }\n",
       "\n",
       "    .dataframe thead th {\n",
       "        text-align: right;\n",
       "    }\n",
       "</style>\n",
       "<table border=\"1\" class=\"dataframe\">\n",
       "  <thead>\n",
       "    <tr style=\"text-align: right;\">\n",
       "      <th></th>\n",
       "      <th>Predicted Positive</th>\n",
       "      <th>Predicted Negative</th>\n",
       "    </tr>\n",
       "  </thead>\n",
       "  <tbody>\n",
       "    <tr>\n",
       "      <th>True Positive</th>\n",
       "      <td>2002</td>\n",
       "      <td>1044</td>\n",
       "    </tr>\n",
       "    <tr>\n",
       "      <th>True Negative</th>\n",
       "      <td>35</td>\n",
       "      <td>967</td>\n",
       "    </tr>\n",
       "  </tbody>\n",
       "</table>\n",
       "</div>"
      ],
      "text/plain": [
       "               Predicted Positive  Predicted Negative\n",
       "True Positive                2002                1044\n",
       "True Negative                  35                 967"
      ]
     },
     "metadata": {},
     "output_type": "display_data"
    }
   ],
   "source": [
    "# Get class predictions\n",
    "y_pred = logit.predict(X_test_r)\n",
    "\n",
    "# Generate confusion matrix\n",
    "cf_matrix = confusion_matrix(y_test, y_pred)\n",
    "\n",
    "# label rows and columns\n",
    "cf_df = pd.DataFrame(\n",
    "    cf_matrix, \n",
    "    columns=[\"Predicted Positive\", \"Predicted Negative\"],\n",
    "    index=[\"True Positive\", \"True Negative\"]\n",
    ")\n",
    "\n",
    "display(cf_df)"
   ]
  },
  {
   "cell_type": "code",
   "execution_count": 61,
   "id": "13396161",
   "metadata": {},
   "outputs": [
    {
     "data": {
      "image/png": "[encoded data removed]",
      "text/plain": [
       "<Figure size 640x480 with 2 Axes>"
      ]
     },
     "metadata": {},
     "output_type": "display_data"
    }
   ],
   "source": [
    "# plotting out the confusion matrix\n",
    "plot_confusion_matrix(logit, X_test_r, y_test);"
   ]
  },
  {
   "cell_type": "markdown",
   "id": "f7924429",
   "metadata": {},
   "source": [
    "By viewing the confusion matrix it shows important information about which values the model predicts correctly. Our True Negatives as 3045 and True Positives as 993. The False Negatives and positives represent the predictions it got incorrect."
   ]
  },
  {
   "cell_type": "code",
   "execution_count": 30,
   "id": "10d86295",
   "metadata": {},
   "outputs": [
    {
     "data": {
      "text/plain": [
       "<AxesSubplot: >"
      ]
     },
     "execution_count": 30,
     "metadata": {},
     "output_type": "execute_result"
    },
    {
     "data": {
      "image/png": "[encoded data removed]",
      "text/plain": [
       "<Figure size 800x600 with 1 Axes>"
      ]
     },
     "metadata": {},
     "output_type": "display_data"
    }
   ],
   "source": [
    "# finding the feature importance and then plotting it out to have a visual representation of the features\n",
    "feat_importances = pd.DataFrame(DT_model.feature_importances_, index=X_train.columns, columns=[\"Importance\"])\n",
    "feat_importances.sort_values(by='Importance', ascending=False, inplace=True)\n",
    "feat_importances.plot(kind='bar', figsize=(8,6))"
   ]
  },
  {
   "cell_type": "markdown",
   "id": "e8582ce7",
   "metadata": {},
   "source": [
    "With a clear indication of why the decision trees are over-fitting I can remove the views column from the model. The classifier has recognized that by looking at views it can determine which videos are over 1 million. Since the target variable is 1 million it is leaking the data into the training model."
   ]
  },
  {
   "cell_type": "code",
   "execution_count": 31,
   "id": "e17f7de0",
   "metadata": {},
   "outputs": [
    {
     "name": "stdout",
     "output_type": "stream",
     "text": [
      "The train classification accuracy is:  1.0\n",
      "The test classification accuracy is:  0.8698122529644269\n"
     ]
    }
   ],
   "source": [
    "X1 = df_m.drop(columns=['is_viral','views'])\n",
    "y1 = df_m['is_viral']\n",
    "\n",
    "X1_train, X1_test, y1_train, y1_test = train_test_split(X1, y1, test_size=0.20, stratify=y1, random_state=1)\n",
    "\n",
    "DT_model.fit(X1_train, y1_train)\n",
    "#scoring the model\n",
    "print(f\"The train classification accuracy is:  {DT_model.score(X1_train,y1_train)}\")\n",
    "print(f\"The test classification accuracy is:  {DT_model.score(X1_test,y1_test)}\")"
   ]
  },
  {
   "cell_type": "markdown",
   "id": "5a682780",
   "metadata": {},
   "source": [
    "Now I will do the same as for decision trees as I did with the hyper parameter optimization to find the model of best fit for the decisions trees."
   ]
  },
  {
   "cell_type": "code",
   "execution_count": 32,
   "id": "d4540037",
   "metadata": {},
   "outputs": [],
   "source": [
    "# Decision Tree accuracy testing\n",
    "\n",
    "train_accs_s = []\n",
    "test_accs_s = []\n",
    "depth_values = list(range(1,15))\n",
    "\n",
    "# Loop over different max_depths\n",
    "for d in depth_values:\n",
    "    \n",
    "    # Instantiate & fit\n",
    "    my_dt = DecisionTreeClassifier(max_depth = d)\n",
    "    my_dt.fit(X1_train, y1_train)\n",
    "    \n",
    "    # Evaluate on train & test data\n",
    "    train_accs_s.append( my_dt.score(X1_train, y1_train) )\n",
    "    test_accs_s.append( my_dt.score(X1_test, y1_test) )"
   ]
  },
  {
   "cell_type": "code",
   "execution_count": 33,
   "id": "41c1dfad",
   "metadata": {},
   "outputs": [
    {
     "data": {
      "image/png": "[encoded data removed]",
      "text/plain": [
       "<Figure size 1500x1000 with 1 Axes>"
      ]
     },
     "metadata": {},
     "output_type": "display_data"
    }
   ],
   "source": [
    "#plotting the results\n",
    "plt.figure(figsize=(15, 10))\n",
    "plt.subplot(212) # plot scaled classifier results\n",
    "plt.plot(depth_values, train_accs_s, label='train')\n",
    "plt.plot(depth_values, test_accs_s, label='test')\n",
    "plt.legend()\n",
    "plt.xlabel('max depth')\n",
    "plt.ylabel('accuracy')\n",
    "plt.title('DecisionTree Accuracy')\n",
    "plt.show()"
   ]
  },
  {
   "cell_type": "markdown",
   "id": "37fb0c33",
   "metadata": {},
   "source": [
    "After checking the different values of the max depths I believe that the best option for a decision tree max depth would be a depth of 5 so now I will employ that hyper parameter and see what kind of result I get back in return."
   ]
  },
  {
   "cell_type": "code",
   "execution_count": 34,
   "id": "4d9824f2",
   "metadata": {},
   "outputs": [
    {
     "name": "stdout",
     "output_type": "stream",
     "text": [
      "The train classification accuracy is:  0.9052384482332592\n",
      "The test classification accuracy is:  0.8987154150197628\n"
     ]
    }
   ],
   "source": [
    "#Fit to the training data\n",
    "DT_model = DecisionTreeClassifier(max_depth=5)\n",
    "DT_model.fit(X1_train, y1_train)\n",
    "#scoring the model\n",
    "print(f\"The train classification accuracy is:  {DT_model.score(X1_train,y1_train)}\")\n",
    "print(f\"The test classification accuracy is:  {DT_model.score(X1_test,y1_test)}\")"
   ]
  },
  {
   "cell_type": "markdown",
   "id": "7b617408",
   "metadata": {},
   "source": [
    "Since there is a data leakage problem I will remove the views from my original models and rerun the test to see how much the accuracy is affected."
   ]
  },
  {
   "cell_type": "code",
   "execution_count": 46,
   "id": "a121c032",
   "metadata": {},
   "outputs": [
    {
     "name": "stdout",
     "output_type": "stream",
     "text": [
      "Train accuracy: 0.9147516679021498\n",
      "Test accuracy: 0.9137845849802372\n"
     ]
    }
   ],
   "source": [
    "# assigning the variables\n",
    "T = df_m.drop(columns=['is_viral', 'views'])\n",
    "b = df_m['is_viral']\n",
    "\n",
    "#splitting my train and test sets with a size of 20% as I believe this is a good start\n",
    "T_train, T_test, b_train, b_test = train_test_split(T, b, test_size=0.20, stratify=y, random_state=1)\n",
    "\n",
    "logreg = LogisticRegression( solver ='lbfgs')\n",
    "\n",
    "T_train, T_test, b_train, b_test = train_test_split(T, b, test_size=0.20, stratify=y, random_state=1)\n",
    "# fit model and score\n",
    "logreg.fit(T_train, b_train)\n",
    "print(f\"Train accuracy: {logreg.score(T_train, b_train)}\")\n",
    "print(f\"Test accuracy: {logreg.score(T_test, b_test)}\")"
   ]
  },
  {
   "cell_type": "code",
   "execution_count": 49,
   "id": "09f0f61c",
   "metadata": {},
   "outputs": [
    {
     "name": "stdout",
     "output_type": "stream",
     "text": [
      "---Robust Scaler data---\n",
      "Training accuracy: 0.8962811959476156\n",
      "TEST accuracy: 0.8962450592885376\n"
     ]
    }
   ],
   "source": [
    "\n",
    "rscaler.fit(T_train)\n",
    "# transform both the X_train and X_test data with the fitted scaler\n",
    "T_train_r = rscaler.transform(T_train)\n",
    "T_test_r = rscaler.transform(T_test)\n",
    "# fit model on scaled data\n",
    "logit = logreg.fit(T_train_r, b_train)\n",
    "# train accuracy\n",
    "logit_r_train_acc1 = logit.score(T_train_r, b_train)\n",
    "# test accuracy\n",
    "logit_r_test_acc1 = logit.score(T_test_r, b_test)\n",
    "\n",
    "print(\"---Robust Scaler data---\")\n",
    "print(f\"Training accuracy: {logit_r_train_acc1}\")\n",
    "print(f\"TEST accuracy: {logit_r_test_acc1}\")"
   ]
  },
  {
   "cell_type": "code",
   "execution_count": 51,
   "id": "26b7fcc6",
   "metadata": {},
   "outputs": [
    {
     "name": "stdout",
     "output_type": "stream",
     "text": [
      "---Standard Scaler data---\n",
      "Training accuracy: 0.8960958734865332\n",
      "TEST accuracy: 0.8945158102766798\n"
     ]
    }
   ],
   "source": [
    "T_train_ss = scaler.fit_transform(T_train)\n",
    "T_test_ss = scaler.transform(T_test)\n",
    "# fit model on scaled data\n",
    "logit = logreg.fit(T_train_ss, b_train)\n",
    "# train accuracy\n",
    "logit_ss_train_acc1 = logit.score(T_train_ss, b_train)\n",
    "# test accuracy\n",
    "logit_ss_test_acc1 = logit.score(T_test_ss, b_test)\n",
    "\n",
    "print(\"---Standard Scaler data---\")\n",
    "print(f\"Training accuracy: {logit_ss_train_acc1}\")\n",
    "print(f\"TEST accuracy: {logit_ss_test_acc1}\")"
   ]
  },
  {
   "cell_type": "code",
   "execution_count": 53,
   "id": "38d70b93",
   "metadata": {},
   "outputs": [
    {
     "name": "stdout",
     "output_type": "stream",
     "text": [
      "---MinMax Scaler data---\n",
      "Training accuracy: 0.8223375339757846\n",
      "TEST accuracy: 0.821393280632411\n"
     ]
    }
   ],
   "source": [
    "#scaling the data\n",
    "mmscaler = MinMaxScaler()\n",
    "mmscaler.fit(T_train)\n",
    "# transform both the X_train and X_test data with the fitted scaler\n",
    "T_train_mm = mmscaler.transform(T_train)\n",
    "T_test_mm = mmscaler.transform(T_test)\n",
    "\n",
    "# fit model on scaled data\n",
    "logit = logreg.fit(T_train_mm, b_train)\n",
    "# train accuracy\n",
    "logit_mm_train_acc1 = logit.score(T_train_mm, b_train)\n",
    "# test accuracy\n",
    "logit_mm_test_acc1 = logit.score(T_test_mm, b_test)\n",
    "\n",
    "print(\"---MinMax Scaler data---\")\n",
    "print(f\"Training accuracy: {logit_mm_train_acc1}\")\n",
    "print(f\"TEST accuracy: {logit_mm_test_acc1}\")"
   ]
  },
  {
   "cell_type": "code",
   "execution_count": 54,
   "id": "fac64741",
   "metadata": {},
   "outputs": [
    {
     "name": "stdout",
     "output_type": "stream",
     "text": [
      "Test set accuracy for robust scaler: 0.907608695652174\n",
      "Test set accuracy for min/max scaler: 0.7524703557312253\n",
      "Test set accuracy for standard scaler: 0.7912549407114624\n"
     ]
    }
   ],
   "source": [
    "#instantiate the model with a number of neighbours set as 30\n",
    "KNN_model = KNeighborsClassifier(n_neighbors=50)\n",
    "#fit the model\n",
    "KNN_model.fit(T_train_r, b_train)\n",
    "\n",
    "# Score the model on the test set\n",
    "#robust scaler\n",
    "r_test_predictions1 = KNN_model.predict(T_test_r)\n",
    "r_test_accuracy1 = accuracy_score(r_test_predictions1, y_test)\n",
    "print(f\"Test set accuracy for robust scaler: {r_test_accuracy1}\")\n",
    "#min max scaler\n",
    "mm_test_predictions1 = KNN_model.predict(T_test_mm)\n",
    "mm_test_accuracy1 = accuracy_score(mm_test_predictions1, b_test)\n",
    "print(f\"Test set accuracy for min/max scaler: {mm_test_accuracy}\")\n",
    "#standard scaler\n",
    "ss_test_predictions1 = KNN_model.predict(T_test_ss)\n",
    "ss_test_accuracy1 = accuracy_score(ss_test_predictions1, b_test)\n",
    "print(f\"Test set accuracy for standard scaler: {ss_test_accuracy1}\")"
   ]
  },
  {
   "cell_type": "markdown",
   "id": "ec7b3fc1",
   "metadata": {},
   "source": [
    "Now that I have re-run the models that I had made previously I can confirm that I had data leaking into my dataset and that the best model in order to find the answer that I was looking for is actually an unscalled logistic regression with a train accuracy of ~91% and a comparable ~91% test accuracy"
   ]
  },
  {
   "cell_type": "code",
   "execution_count": 57,
   "id": "3a9d2c33",
   "metadata": {},
   "outputs": [
    {
     "data": {
      "text/plain": [
       "<AxesSubplot: >"
      ]
     },
     "execution_count": 57,
     "metadata": {},
     "output_type": "execute_result"
    },
    {
     "data": {
      "image/png": "[encoded data removed]",
      "text/plain": [
       "<Figure size 800x600 with 1 Axes>"
      ]
     },
     "metadata": {},
     "output_type": "display_data"
    }
   ],
   "source": [
    "# finding the feature importance and then plotting it out to have a visual representation of the features\n",
    "feat_importances = pd.DataFrame(DT_model.feature_importances_, index=X1_train.columns, columns=[\"Importance\"])\n",
    "feat_importances.sort_values(by='Importance', ascending=False, inplace=True)\n",
    "feat_importances.plot(kind='bar', figsize=(8,6))"
   ]
  },
  {
   "cell_type": "markdown",
   "id": "92e2e914",
   "metadata": {},
   "source": [
    "Now the graph shows that the most important feature would be the amount of dislikes. This means that having lots of dislikes or very low dislikes is likely to give that particular video lots of views."
   ]
  },
  {
   "cell_type": "markdown",
   "id": "161825e5",
   "metadata": {},
   "source": [
    "## Conclusion\n",
    "\n",
    "After running machine learning methods there is important information in the dataset that can lead to the success of a YouTube video. By determining a videos user activity the model is able to guess with >90% accuracy in most cases if a video will be above 1 million views. I believe that the model would be more robust if the data had features like:\n",
    "\n",
    "Subsribers,\n",
    "Channel views,\n",
    "Number of videos.\n",
    "\n",
    "\n",
    "In conclusion the most important feature for this dataset in determining the success of a video is dislikes. Using just the information in the data category_id was also very important and next steps would be looking at which categories have the highest views."
   ]
  }
 ],
 "metadata": {
  "kernelspec": {
   "display_name": "deeplearning",
   "language": "python",
   "name": "deeplearning"
  },
  "language_info": {
   "codemirror_mode": {
    "name": "ipython",
    "version": 3
   },
   "file_extension": ".py",
   "mimetype": "text/x-python",
   "name": "python",
   "nbconvert_exporter": "python",
   "pygments_lexer": "ipython3",
   "version": "3.8.15"
  }
 },
 "nbformat": 4,
 "nbformat_minor": 5
}
